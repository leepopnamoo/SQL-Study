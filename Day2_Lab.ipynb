{
  "nbformat": 4,
  "nbformat_minor": 0,
  "metadata": {
    "colab": {
      "name": "Day2_Lab.ipynb",
      "private_outputs": true,
      "provenance": [],
      "collapsed_sections": [
        "oXyEB3aBk4sr"
      ],
      "include_colab_link": true
    },
    "kernelspec": {
      "name": "python3",
      "display_name": "Python 3"
    },
    "accelerator": "GPU"
  },
  "cells": [
    {
      "cell_type": "markdown",
      "metadata": {
        "id": "view-in-github",
        "colab_type": "text"
      },
      "source": [
        "<a href=\"https://colab.research.google.com/github/leepopnamoo/SQL-Study/blob/main/Day2_Lab.ipynb\" target=\"_parent\"><img src=\"https://colab.research.google.com/assets/colab-badge.svg\" alt=\"Open In Colab\"/></a>"
      ]
    },
    {
      "cell_type": "markdown",
      "metadata": {
        "id": "oXyEB3aBk4sr"
      },
      "source": [
        "#**Colab 데이터 불러오기**"
      ]
    },
    {
      "cell_type": "markdown",
      "metadata": {
        "id": "3QmQx6VIjWnG"
      },
      "source": [
        "##**(방법1) 로컬 컴퓨터 위치에 저장되어 있는 파일 Colab으로 저장하기**"
      ]
    },
    {
      "cell_type": "markdown",
      "metadata": {
        "id": "IMGnqKqRQPjl"
      },
      "source": [
        "###**Colab으로 파일 업로드**"
      ]
    },
    {
      "cell_type": "code",
      "metadata": {
        "id": "B84lmkCLd0ZW"
      },
      "source": [
        "from google.colab import files\n",
        "uploaded = files.upload()"
      ],
      "execution_count": null,
      "outputs": []
    },
    {
      "cell_type": "markdown",
      "metadata": {
        "id": "DZPpzkvFQXQe"
      },
      "source": [
        "###**Colab으로 파일 불러오기**"
      ]
    },
    {
      "cell_type": "code",
      "metadata": {
        "id": "EK5Xthn0eDfh"
      },
      "source": [
        "import numpy as np\n",
        "import io\n",
        "dataset = np.loadtxt(io.StringIO(uploaded['pima-indians-diabetes.csv'].decode('utf-8')),delimiter=\",\")\n",
        "print(dataset)\n",
        "print(\"데이터 크기(레코드, 필드): {}\".format(dataset.shape))"
      ],
      "execution_count": null,
      "outputs": []
    },
    {
      "cell_type": "markdown",
      "metadata": {
        "id": "ECyWo162m--J"
      },
      "source": [
        "##**(방법2) 파일을 구글 드라이브에 업로드 후, Colab 연결하여 불러오기**"
      ]
    },
    {
      "cell_type": "markdown",
      "metadata": {
        "id": "fvFd4_uqRR9V"
      },
      "source": [
        "###**구글 드라이브 마운트**"
      ]
    },
    {
      "cell_type": "code",
      "metadata": {
        "id": "p8iTZ2Y-NXUk"
      },
      "source": [
        "from google.colab import drive\n",
        "drive.mount('/content/drive')"
      ],
      "execution_count": null,
      "outputs": []
    },
    {
      "cell_type": "markdown",
      "metadata": {
        "id": "-BkXIrwFnPYu"
      },
      "source": [
        "###**구글 드라이브 경로에서 파일 불러오기**"
      ]
    },
    {
      "cell_type": "code",
      "metadata": {
        "id": "vweXCBt9lkRx"
      },
      "source": [
        "import numpy as np\n",
        "dataset_2 = np.loadtxt(\"/content/drive/MyDrive/Colab Notebooks/빅데이터러닝센터_머신러닝&모델링/pima-indians-diabetes.csv\", delimiter=\",\") "
      ],
      "execution_count": null,
      "outputs": []
    },
    {
      "cell_type": "code",
      "metadata": {
        "id": "Wa0BA1XmpvNE"
      },
      "source": [
        "dataset_2"
      ],
      "execution_count": null,
      "outputs": []
    },
    {
      "cell_type": "markdown",
      "metadata": {
        "id": "6yitil_Kn-cc"
      },
      "source": [
        "#**의사결정나무, 신경망, 서포트 벡터 머신 모델 생성 및 성능 비교하기 - Lab**"
      ]
    },
    {
      "cell_type": "markdown",
      "metadata": {
        "id": "DbM1Vo81lBOl"
      },
      "source": [
        "##**입력 변수, 목표 변수 확인**"
      ]
    },
    {
      "cell_type": "code",
      "source": [
        "dataset"
      ],
      "metadata": {
        "id": "Hc9rREHuCfGl"
      },
      "execution_count": null,
      "outputs": []
    },
    {
      "cell_type": "code",
      "metadata": {
        "id": "oHkvVPf_eoiI"
      },
      "source": [
        "diabetes_data = dataset[:,0:8]\n",
        "diabetes_target = dataset[:,8]"
      ],
      "execution_count": null,
      "outputs": []
    },
    {
      "cell_type": "markdown",
      "metadata": {
        "id": "htIvRjuUlKut"
      },
      "source": [
        "###**입력변수, 목표변수 출력**"
      ]
    },
    {
      "cell_type": "code",
      "metadata": {
        "id": "VmpTxPwJgb8p"
      },
      "source": [
        "print(diabetes_data)\n",
        "print(diabetes_target)"
      ],
      "execution_count": null,
      "outputs": []
    },
    {
      "cell_type": "markdown",
      "metadata": {
        "id": "_pOx6hwNnmod"
      },
      "source": [
        "##**훈련 데이터, 테스트 데이터 나누기**"
      ]
    },
    {
      "cell_type": "code",
      "metadata": {
        "id": "78OMzBI8iFTh"
      },
      "source": [
        "from sklearn.model_selection import train_test_split\n",
        "x_train, x_test, y_train, y_test = train_test_split(diabetes_data, diabetes_target, \n",
        "                                                    stratify=diabetes_target, test_size=0.2, random_state=1000)"
      ],
      "execution_count": null,
      "outputs": []
    },
    {
      "cell_type": "code",
      "metadata": {
        "id": "1EzyjN7wiHBR"
      },
      "source": [
        "print(\"훈련용 데이터 크기(레코드, 필드): {}\".format(x_train.shape))\n",
        "print(\"테스트용 데이터 크기(레코드, 필드): {}\".format(x_test.shape))\n",
        "print(\"훈련용 데이터 크기(레코드, 필드): {}\".format(y_train.shape))\n",
        "print(\"테스트용 데이터 크기(레코드, 필드): {}\".format(y_test.shape))"
      ],
      "execution_count": null,
      "outputs": []
    },
    {
      "cell_type": "markdown",
      "metadata": {
        "id": "s3GfTqafdOrc"
      },
      "source": [
        "#**의사결정나무**"
      ]
    },
    {
      "cell_type": "code",
      "metadata": {
        "id": "IP6cjUI4dT0_"
      },
      "source": [
        "from sklearn.tree import DecisionTreeClassifier"
      ],
      "execution_count": null,
      "outputs": []
    },
    {
      "cell_type": "markdown",
      "metadata": {
        "id": "gsnJ4Wgmp___"
      },
      "source": [
        "#**인공신경망**"
      ]
    },
    {
      "cell_type": "code",
      "metadata": {
        "id": "xsAADJm9ofRT"
      },
      "source": [
        "from tensorflow import keras\n",
        "from tensorflow.keras import layers\n",
        "from tensorflow.keras.optimizers import SGD\n",
        "# create model\n",
        "model = keras.Sequential()\n",
        "model.add(layers.Dense(12, input_dim=8, activation='sigmoid'))\n",
        "model.add(layers.Dense(8, activation='sigmoid'))\n",
        "model.add(layers.Dense(1, activation='sigmoid'))"
      ],
      "execution_count": null,
      "outputs": []
    },
    {
      "cell_type": "markdown",
      "metadata": {
        "id": "ufssCLlDPnff"
      },
      "source": [
        "#**서포트 벡터 머신**"
      ]
    },
    {
      "cell_type": "code",
      "metadata": {
        "id": "smzO3Q6oPnQb"
      },
      "source": [
        "from sklearn.svm import SVC\n",
        "from sklearn.preprocessing import StandardScaler\n",
        "from sklearn.metrics import accuracy_score"
      ],
      "execution_count": null,
      "outputs": []
    },
    {
      "cell_type": "code",
      "metadata": {
        "id": "tOJZ7iBFTE86"
      },
      "source": [
        "sc_X = StandardScaler()\n",
        "X_train = sc_X.fit_transform(x_train)\n",
        "X_test = sc_X.transform(x_test)"
      ],
      "execution_count": null,
      "outputs": []
    }
  ]
}