{
  "nbformat": 4,
  "nbformat_minor": 0,
  "metadata": {
    "colab": {
      "name": "Ch8_K-means.ipynb",
      "private_outputs": true,
      "provenance": [],
      "collapsed_sections": [],
      "include_colab_link": true
    },
    "kernelspec": {
      "name": "python3",
      "display_name": "Python 3"
    }
  },
  "cells": [
    {
      "cell_type": "markdown",
      "metadata": {
        "id": "view-in-github",
        "colab_type": "text"
      },
      "source": [
        "<a href=\"https://colab.research.google.com/github/leepopnamoo/SQL-Study/blob/main/Ch8_K_means.ipynb\" target=\"_parent\"><img src=\"https://colab.research.google.com/assets/colab-badge.svg\" alt=\"Open In Colab\"/></a>"
      ]
    },
    {
      "cell_type": "markdown",
      "metadata": {
        "id": "kPBeCyhAJCLL"
      },
      "source": [
        "#***군집분석***"
      ]
    },
    {
      "cell_type": "markdown",
      "metadata": {
        "id": "NV79_569JZqC"
      },
      "source": [
        "##***데이터 불러오기***"
      ]
    },
    {
      "cell_type": "markdown",
      "metadata": {
        "id": "zmTKRy2FKMsy"
      },
      "source": [
        "**데이터 집합**\n",
        "\n",
        "*   87 필드, 13,144 레코드\n",
        "*   인구통계학 데이터\n",
        "    *   Gender, MaritalStatus, HadChildren, …\n",
        "*   거주지 데이터\n",
        "    *   Population, HouseHolds, BluCollarOcc, …\n",
        "*   구매 데이터\n",
        "    *   RFM, TotalSpend, AveItemSpend, …\n",
        "\n"
      ]
    },
    {
      "cell_type": "code",
      "metadata": {
        "id": "E6Eww6lXJAuU"
      },
      "source": [
        "from google.colab import files\n",
        "uploaded = files.upload()"
      ],
      "execution_count": null,
      "outputs": []
    },
    {
      "cell_type": "code",
      "metadata": {
        "id": "d22n7DhsbOkZ"
      },
      "source": [
        "import pandas as pd\n",
        "respon_data = pd.read_csv(\"p6_cu_s.txt\", delimiter=',', header=0)"
      ],
      "execution_count": null,
      "outputs": []
    },
    {
      "cell_type": "code",
      "metadata": {
        "id": "VrNuneEsTOFs"
      },
      "source": [
        "from google.colab import drive\n",
        "drive.mount('/content/drive')"
      ],
      "execution_count": null,
      "outputs": []
    },
    {
      "cell_type": "code",
      "metadata": {
        "id": "vQA2VjT3TYA3"
      },
      "source": [
        "import pandas as pd\n",
        "respon_data = pd.read_csv(\"/content/drive/MyDrive/Colab Notebooks/빅데이터러닝센터_머신러닝&모델링_Day2/p6_cu_s.txt\", delimiter=',', header=0)"
      ],
      "execution_count": null,
      "outputs": []
    },
    {
      "cell_type": "markdown",
      "metadata": {
        "id": "HLIt114JLNT0"
      },
      "source": [
        "##***데이터 확인***"
      ]
    },
    {
      "cell_type": "markdown",
      "metadata": {
        "id": "BO023siBLyyC"
      },
      "source": [
        "***첫 행부터 5번째 행까지의 데이터 확인***"
      ]
    },
    {
      "cell_type": "code",
      "metadata": {
        "id": "Nof8Qd88Lx8D"
      },
      "source": [
        "respon_data.head(10)"
      ],
      "execution_count": null,
      "outputs": []
    },
    {
      "cell_type": "markdown",
      "metadata": {
        "id": "3R1Sc9jfMSwO"
      },
      "source": [
        "***마지막 5개 행 데이터 확인***"
      ]
    },
    {
      "cell_type": "code",
      "metadata": {
        "id": "BaHw7eQlMgBA"
      },
      "source": [
        "respon_data.tail(10)"
      ],
      "execution_count": null,
      "outputs": []
    },
    {
      "cell_type": "markdown",
      "metadata": {
        "id": "lrm3z0aZPppi"
      },
      "source": [
        "***데이터 정보 확인***"
      ]
    },
    {
      "cell_type": "code",
      "metadata": {
        "id": "wRgmwcv2PsY5"
      },
      "source": [
        "respon_data.info()"
      ],
      "execution_count": null,
      "outputs": []
    },
    {
      "cell_type": "markdown",
      "metadata": {
        "id": "IBt1ePx5MkY0"
      },
      "source": [
        "***데이터 요약 통계정보 확인***"
      ]
    },
    {
      "cell_type": "code",
      "metadata": {
        "id": "yCXXYXOJ6t2E"
      },
      "source": [
        "respon_data.describe()"
      ],
      "execution_count": null,
      "outputs": []
    },
    {
      "cell_type": "markdown",
      "metadata": {
        "id": "WE0Kxl7DQBHS"
      },
      "source": [
        "##***군집 분석을 위한 데이터 선별 및 전처리***"
      ]
    },
    {
      "cell_type": "markdown",
      "metadata": {
        "id": "aXKwPyvaQ2pZ"
      },
      "source": [
        "###***구매 데이터 선별***"
      ]
    },
    {
      "cell_type": "code",
      "metadata": {
        "id": "PBRhOiUuQAcf"
      },
      "source": [
        "purch_data = respon_data.iloc[:,12:26]"
      ],
      "execution_count": null,
      "outputs": []
    },
    {
      "cell_type": "code",
      "metadata": {
        "id": "e3L8JZq_Q2J_"
      },
      "source": [
        "purch_data.head()"
      ],
      "execution_count": null,
      "outputs": []
    },
    {
      "cell_type": "code",
      "metadata": {
        "id": "bSmBWz7LSADy"
      },
      "source": [
        "purch_data.info()"
      ],
      "execution_count": null,
      "outputs": []
    },
    {
      "cell_type": "markdown",
      "metadata": {
        "id": "jA2nOwacQOzj"
      },
      "source": [
        "###***인구 통계학 데이터 ,거주지 데이터 선별***"
      ]
    },
    {
      "cell_type": "code",
      "metadata": {
        "id": "ecswwc6G6_HM"
      },
      "source": [
        "pop_data = respon_data.iloc[:,1:12]"
      ],
      "execution_count": null,
      "outputs": []
    },
    {
      "cell_type": "code",
      "metadata": {
        "id": "vx3wGNo2ReCU"
      },
      "source": [
        "pop_data.head(5)"
      ],
      "execution_count": null,
      "outputs": []
    },
    {
      "cell_type": "code",
      "metadata": {
        "id": "Xn3VI8UmIlaO"
      },
      "source": [
        "pop_data.info()"
      ],
      "execution_count": null,
      "outputs": []
    },
    {
      "cell_type": "markdown",
      "metadata": {
        "id": "sjDo_f9d2c-N"
      },
      "source": [
        "###***군집 분석을 위한 데이터 전처리-인구통계 데이터***"
      ]
    },
    {
      "cell_type": "markdown",
      "metadata": {
        "id": "x-xVJfddWMEO"
      },
      "source": [
        "####***Null 값 대체하기***"
      ]
    },
    {
      "cell_type": "code",
      "metadata": {
        "id": "GlxhOtN5RjHZ"
      },
      "source": [
        "pop_data.info()"
      ],
      "execution_count": null,
      "outputs": []
    },
    {
      "cell_type": "code",
      "metadata": {
        "id": "DyJObilMVBpf"
      },
      "source": [
        "pop_data['MaritalStatus'].unique()"
      ],
      "execution_count": null,
      "outputs": []
    },
    {
      "cell_type": "code",
      "metadata": {
        "id": "4f_9K6XWUyJ9"
      },
      "source": [
        "pop_data.fillna('No answer', inplace=True)"
      ],
      "execution_count": null,
      "outputs": []
    },
    {
      "cell_type": "code",
      "metadata": {
        "id": "SY-c1CROVyYr"
      },
      "source": [
        "pop_data['MaritalStatus'].unique()"
      ],
      "execution_count": null,
      "outputs": []
    },
    {
      "cell_type": "markdown",
      "metadata": {
        "id": "WT_S80MgZ_HG"
      },
      "source": [
        "####***문자형 데이터 수치형으로 변환하기***"
      ]
    },
    {
      "cell_type": "code",
      "metadata": {
        "id": "zkg-3KjaaGsq"
      },
      "source": [
        "from sklearn.preprocessing import LabelEncoder"
      ],
      "execution_count": null,
      "outputs": []
    },
    {
      "cell_type": "code",
      "metadata": {
        "id": "jxAL3_MBaY4m"
      },
      "source": [
        "labelEncoder= LabelEncoder()\n",
        "labelEncoder.fit(pop_data['HasChildren'])"
      ],
      "execution_count": null,
      "outputs": []
    },
    {
      "cell_type": "code",
      "metadata": {
        "id": "FWHTml9uI2G4"
      },
      "source": [
        "labelEncoder.classes_"
      ],
      "execution_count": null,
      "outputs": []
    },
    {
      "cell_type": "code",
      "metadata": {
        "id": "kDHd1sn7xOfT"
      },
      "source": [
        "dir(labelEncoder)"
      ],
      "execution_count": null,
      "outputs": []
    },
    {
      "cell_type": "code",
      "metadata": {
        "id": "7Niw1Xg3aaJP"
      },
      "source": [
        "pop_data['HasChildren'] = labelEncoder.transform(pop_data['HasChildren'])"
      ],
      "execution_count": null,
      "outputs": []
    },
    {
      "cell_type": "code",
      "metadata": {
        "id": "658-2Mayb2am"
      },
      "source": [
        "pop_data['HasChildren'].head()"
      ],
      "execution_count": null,
      "outputs": []
    },
    {
      "cell_type": "code",
      "metadata": {
        "id": "HV0YAIECbwzq"
      },
      "source": [
        "pop_data['HasChildren'].unique()"
      ],
      "execution_count": null,
      "outputs": []
    },
    {
      "cell_type": "markdown",
      "metadata": {
        "id": "9j1Xjnbi_fUO"
      },
      "source": [
        "####***1번째~4번째 필드 까지 문자형 데이터 수치형으로 변환하기 - 반복문***"
      ]
    },
    {
      "cell_type": "code",
      "metadata": {
        "id": "tdESnaKVa4GR"
      },
      "source": [
        "labelEncoder= LabelEncoder()\n",
        "columns_index = [0, 1, 2, 3]\n",
        "for i in columns_index:\n",
        "    labelEncoder.fit(pop_data.iloc[:, i])\n",
        "    pop_data.iloc[:, i] = labelEncoder.transform(pop_data.iloc[:, i])"
      ],
      "execution_count": null,
      "outputs": []
    },
    {
      "cell_type": "code",
      "metadata": {
        "id": "iXSX175Xcalx"
      },
      "source": [
        "pop_data.info()"
      ],
      "execution_count": null,
      "outputs": []
    },
    {
      "cell_type": "code",
      "metadata": {
        "id": "KktaWmLkcsOa"
      },
      "source": [
        "pop_data.head()"
      ],
      "execution_count": null,
      "outputs": []
    },
    {
      "cell_type": "markdown",
      "metadata": {
        "id": "S1qKm1uVSJxy"
      },
      "source": [
        "##***군집 분석 - 인구통계 데이터***"
      ]
    },
    {
      "cell_type": "code",
      "metadata": {
        "id": "dKk69LehSGEf"
      },
      "source": [
        "from sklearn import cluster"
      ],
      "execution_count": null,
      "outputs": []
    },
    {
      "cell_type": "code",
      "metadata": {
        "id": "OGw9I4CpTC1W"
      },
      "source": [
        "k_means_pop = cluster.KMeans(n_clusters=3, random_state=42, verbose=1)\n",
        "kmean_pop_result = k_means_pop.fit(pop_data)"
      ],
      "execution_count": null,
      "outputs": []
    },
    {
      "cell_type": "code",
      "metadata": {
        "id": "_TF__P-8p90I"
      },
      "source": [
        "kmean_pop_result.labels_"
      ],
      "execution_count": null,
      "outputs": []
    },
    {
      "cell_type": "code",
      "metadata": {
        "id": "0-lJZ5JjyCXS"
      },
      "source": [
        "pop_cluster = pd.DataFrame({\"cluster_label\":kmean_pop_result.labels_})\n",
        "pop_cluster"
      ],
      "execution_count": null,
      "outputs": []
    },
    {
      "cell_type": "code",
      "metadata": {
        "id": "FeOdnjYzzMTt"
      },
      "source": [
        "pop_result = pd.concat([pop_data, pop_cluster, respon_data['Responded']], axis=1)\n",
        "pop_result[pop_result['cluster_label']==0]"
      ],
      "execution_count": null,
      "outputs": []
    },
    {
      "cell_type": "markdown",
      "metadata": {
        "id": "s53jTf_NAgHv"
      },
      "source": [
        "###***인구통계 데이터 군집 평가하기 - 실루엣 스코어***"
      ]
    },
    {
      "cell_type": "code",
      "metadata": {
        "id": "8PPmoSNxhvnG"
      },
      "source": [
        "from sklearn import metrics\n",
        "cluster_score = metrics.silhouette_score(pop_data, kmean_pop_result.labels_, metric='euclidean', sample_size=len(pop_data))\n",
        "print(cluster_score)"
      ],
      "execution_count": null,
      "outputs": []
    },
    {
      "cell_type": "markdown",
      "metadata": {
        "id": "BNC3HRln1zOi"
      },
      "source": [
        "##***군집 분석 - 구매 데이터***"
      ]
    },
    {
      "cell_type": "code",
      "metadata": {
        "id": "JUL8eeBK13Pa"
      },
      "source": [
        "from sklearn import cluster"
      ],
      "execution_count": null,
      "outputs": []
    },
    {
      "cell_type": "code",
      "metadata": {
        "id": "5alFS4oG14RD"
      },
      "source": [
        "k_means_purch = cluster.KMeans(n_clusters=3, random_state=42, verbose=0)\n",
        "kmean_purch_result = k_means_purch.fit(purch_data)"
      ],
      "execution_count": null,
      "outputs": []
    },
    {
      "cell_type": "code",
      "metadata": {
        "id": "0xEDarin3A2W"
      },
      "source": [
        "purch_cluster = pd.DataFrame({\"cluster_label\":kmean_purch_result.labels_})\n",
        "purch_cluster"
      ],
      "execution_count": null,
      "outputs": []
    },
    {
      "cell_type": "code",
      "metadata": {
        "id": "5OE3IFRr3hHS"
      },
      "source": [
        "purch_result = pd.concat([purch_data, purch_cluster, respon_data['Responded']], axis =1)\n",
        "purch_result[purch_result['Responded']=='T']"
      ],
      "execution_count": null,
      "outputs": []
    },
    {
      "cell_type": "markdown",
      "metadata": {
        "id": "L8GqztjGA1m8"
      },
      "source": [
        "###***구매 데이터 군집 평가하기 - 실루엣 스코어***"
      ]
    },
    {
      "cell_type": "code",
      "metadata": {
        "id": "PugOu5a3A1m9"
      },
      "source": [
        "from sklearn import metrics\n",
        "cluster_score = metrics.silhouette_score(purch_data, kmean_purch_result.labels_, metric='euclidean', sample_size=len(purch_data))\n",
        "print(cluster_score)"
      ],
      "execution_count": null,
      "outputs": []
    },
    {
      "cell_type": "markdown",
      "metadata": {
        "id": "iZ891dm-woj_"
      },
      "source": [
        "##***최적 군집 수 확인***"
      ]
    },
    {
      "cell_type": "markdown",
      "metadata": {
        "id": "uK4UbQsp4wPq"
      },
      "source": [
        "###***인구통계 데이터***"
      ]
    },
    {
      "cell_type": "markdown",
      "metadata": {
        "id": "FL93sTb8CA6Q"
      },
      "source": [
        "####***Inertia 활용***"
      ]
    },
    {
      "cell_type": "code",
      "metadata": {
        "id": "0YUS5WAcjKBo"
      },
      "source": [
        "import matplotlib.pyplot as plt\n",
        "\n",
        "number_k = range(1,10)\n",
        "inertias = []\n",
        "\n",
        "for k in number_k:\n",
        "    model = cluster.KMeans(n_clusters=k)\n",
        "    model.fit(pop_data)\n",
        "    inertias.append(model.inertia_)\n",
        "    \n",
        "# Plot ks vs inertias\n",
        "plt.plot(number_k, inertias, '-o')\n",
        "plt.xlabel('number of clusters, k')\n",
        "plt.ylabel('inertia')\n",
        "plt.xticks(number_k)\n",
        "plt.show()"
      ],
      "execution_count": null,
      "outputs": []
    },
    {
      "cell_type": "markdown",
      "metadata": {
        "id": "Z8mH8dS_BeCW"
      },
      "source": [
        "####***Silhouette score 활용***"
      ]
    },
    {
      "cell_type": "code",
      "metadata": {
        "id": "6ZmhemVz7Jmg"
      },
      "source": [
        "import numpy as np\n",
        "\n",
        "scores = []\n",
        "values = np.arange(2, 10)\n",
        "\n",
        "for num_clusters in values:\n",
        "    kmeans = cluster.KMeans(n_clusters=num_clusters)\n",
        "    kmeans.fit(pop_data)\n",
        "    score = metrics.silhouette_score(pop_data, kmeans.labels_, \n",
        "                metric='euclidean', sample_size=len(pop_data))\n",
        "\n",
        "    print(\"\\nNumber of clusters =\", num_clusters)\n",
        "    print(\"Silhouette score =\", score)\n",
        "                    \n",
        "    scores.append(score)\n",
        "\n",
        "plt.figure()\n",
        "plt.bar(values, scores, width=0.7, color='blue', align='center')\n",
        "plt.title('Silhouette score vs number of clusters')\n",
        "\n",
        "num_clusters = np.argmax(scores) + values[0]\n",
        "print('\\nOptimal number of clusters =', num_clusters)\n",
        "\n",
        "plt.show()"
      ],
      "execution_count": null,
      "outputs": []
    },
    {
      "cell_type": "markdown",
      "metadata": {
        "id": "xwfN6O6Z452H"
      },
      "source": [
        "###***구매 데이터***"
      ]
    },
    {
      "cell_type": "markdown",
      "metadata": {
        "id": "NmHQBvU6EWB-"
      },
      "source": [
        "####***Inertia 활용***"
      ]
    },
    {
      "cell_type": "code",
      "metadata": {
        "id": "uE_Do3QJEWB_"
      },
      "source": [
        "import matplotlib.pyplot as plt\n",
        "\n",
        "number_k = range(1,10)\n",
        "inertias = []\n",
        "\n",
        "for k in number_k:\n",
        "    model = cluster.KMeans(n_clusters=k)\n",
        "    model.fit(purch_data)\n",
        "    inertias.append(model.inertia_)\n",
        "    \n",
        "# Plot ks vs inertias\n",
        "plt.plot(number_k, inertias, '-o')\n",
        "plt.xlabel('number of clusters, k')\n",
        "plt.ylabel('inertia')\n",
        "plt.xticks(number_k)\n",
        "plt.show()"
      ],
      "execution_count": null,
      "outputs": []
    },
    {
      "cell_type": "markdown",
      "metadata": {
        "id": "55Y-EpjzEWCB"
      },
      "source": [
        "####***Silhouette score 활용***"
      ]
    },
    {
      "cell_type": "code",
      "metadata": {
        "id": "yWqBaG80EWCC"
      },
      "source": [
        "import numpy as np\n",
        "# Initialize variables\n",
        "scores = []\n",
        "values = np.arange(2, 10)\n",
        "\n",
        "# Iterate through the defined range\n",
        "for num_clusters in values:\n",
        "    # Train the KMeans clustering model\n",
        "    kmeans = cluster.KMeans(n_clusters=num_clusters)\n",
        "    kmeans.fit(purch_data)\n",
        "    score = metrics.silhouette_score(purch_data, kmeans.labels_, \n",
        "                metric='euclidean', sample_size=len(purch_data))\n",
        "\n",
        "    print(\"\\nNumber of clusters =\", num_clusters)\n",
        "    print(\"Silhouette score =\", score)\n",
        "                    \n",
        "    scores.append(score)\n",
        "\n",
        "# Plot silhouette scores\n",
        "plt.figure()\n",
        "plt.bar(values, scores, width=0.7, color='blue', align='center')\n",
        "plt.title('Silhouette score vs number of clusters')\n",
        "\n",
        "# Extract best score and optimal number of clusters\n",
        "num_clusters = np.argmax(scores) + values[0]\n",
        "print('\\nOptimal number of clusters =', num_clusters)\n",
        "\n",
        "plt.show()"
      ],
      "execution_count": null,
      "outputs": []
    },
    {
      "cell_type": "markdown",
      "metadata": {
        "id": "h8-T-fiCFZs-"
      },
      "source": [
        "##***군집 분석 교차표***"
      ]
    },
    {
      "cell_type": "markdown",
      "metadata": {
        "id": "xs0h6ZB0HoNH"
      },
      "source": [
        "###***인구통계 데이터 - 빈도로 확인***"
      ]
    },
    {
      "cell_type": "code",
      "metadata": {
        "id": "bqNn304NHoNI"
      },
      "source": [
        "pop_result"
      ],
      "execution_count": null,
      "outputs": []
    },
    {
      "cell_type": "code",
      "metadata": {
        "id": "K0FpPXzBHoNK"
      },
      "source": [
        "pop_cross_table = pd.crosstab(pop_result['cluster_label'], pop_result['Responded'], margins=True)\n",
        "print(pop_cross_table)"
      ],
      "execution_count": null,
      "outputs": []
    },
    {
      "cell_type": "markdown",
      "metadata": {
        "id": "NxexMhVCOBdL"
      },
      "source": [
        "####***교차표 전체 합계 확인***"
      ]
    },
    {
      "cell_type": "code",
      "metadata": {
        "id": "MlVvy0WcG1dM"
      },
      "source": [
        "pop_cross_table = pd.crosstab(pop_result['cluster_label'], pop_result['Responded'], margins=True, normalize=True)\n",
        "print(pop_cross_table)"
      ],
      "execution_count": null,
      "outputs": []
    },
    {
      "cell_type": "markdown",
      "metadata": {
        "id": "cHsm7KsUHgtp"
      },
      "source": [
        "###***구매 데이터 - 비율로 확인***"
      ]
    },
    {
      "cell_type": "markdown",
      "metadata": {
        "id": "nVDbfrStmA0F"
      },
      "source": [
        "####***구매 데이터 군집 분석 - 5개***"
      ]
    },
    {
      "cell_type": "code",
      "metadata": {
        "id": "RDDxCBl4LHjf"
      },
      "source": [
        "k_means_purch = cluster.KMeans(n_clusters=5, random_state=42, verbose=0)\n",
        "n_kmean_purch_result = k_means_purch.fit(purch_data)\n",
        "n_purch_cluster = pd.DataFrame({\"cluster_label\":n_kmean_purch_result.labels_})\n",
        "n_purch_result = pd.concat([purch_data, n_purch_cluster, respon_data['Responded']], axis =1)"
      ],
      "execution_count": null,
      "outputs": []
    },
    {
      "cell_type": "markdown",
      "metadata": {
        "id": "AXqhsHg4OfUg"
      },
      "source": [
        "####***교차표 전체 합계  기준 % 확인***"
      ]
    },
    {
      "cell_type": "code",
      "metadata": {
        "id": "6DBLB3F_LvHL"
      },
      "source": [
        "purch_cross_table = pd.crosstab(n_purch_result['cluster_label'], n_purch_result['Responded'], margins=True, normalize=True)\n",
        "print (purch_cross_table)"
      ],
      "execution_count": null,
      "outputs": []
    },
    {
      "cell_type": "markdown",
      "metadata": {
        "id": "RjfSzCZvOqR9"
      },
      "source": [
        "####***교차표 행별 합계  기준 % 확인***"
      ]
    },
    {
      "cell_type": "code",
      "metadata": {
        "id": "84DwcFNUMsyV"
      },
      "source": [
        "pd.crosstab(n_purch_result['cluster_label'], n_purch_result['Responded'], margins=True).apply(lambda x: x/float(x[-1]), axis=1)"
      ],
      "execution_count": null,
      "outputs": []
    }
  ]
}