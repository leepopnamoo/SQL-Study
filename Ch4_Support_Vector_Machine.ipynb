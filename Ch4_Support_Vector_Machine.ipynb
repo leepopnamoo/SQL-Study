{
  "nbformat": 4,
  "nbformat_minor": 0,
  "metadata": {
    "colab": {
      "name": "Ch4_Support Vector Machine.ipynb",
      "private_outputs": true,
      "provenance": [],
      "collapsed_sections": [],
      "include_colab_link": true
    },
    "kernelspec": {
      "name": "python3",
      "display_name": "Python 3"
    },
    "language_info": {
      "name": "python"
    }
  },
  "cells": [
    {
      "cell_type": "markdown",
      "metadata": {
        "id": "view-in-github",
        "colab_type": "text"
      },
      "source": [
        "<a href=\"https://colab.research.google.com/github/leepopnamoo/SQL-Study/blob/main/Ch4_Support_Vector_Machine.ipynb\" target=\"_parent\"><img src=\"https://colab.research.google.com/assets/colab-badge.svg\" alt=\"Open In Colab\"/></a>"
      ]
    },
    {
      "cell_type": "markdown",
      "metadata": {
        "id": "bSEorbwzsOwH"
      },
      "source": [
        "#**Ch4_서포트 벡터 머신 실습**"
      ]
    },
    {
      "cell_type": "markdown",
      "metadata": {
        "id": "2Z0HhqaoEmmu"
      },
      "source": [
        "##**라이브러리 불러오기**"
      ]
    },
    {
      "cell_type": "code",
      "metadata": {
        "id": "lkxidwmSEpml"
      },
      "source": [
        "import numpy as np\n",
        "from sklearn import datasets\n",
        "import matplotlib.pyplot as plt\n",
        "from scipy import stats\n",
        "# use seaborn plotting defaults\n",
        "import seaborn as sns; sns.set()\n",
        "from sklearn.svm import SVC, LinearSVC\n",
        "from sklearn.linear_model import SGDClassifier\n",
        "from sklearn.preprocessing import StandardScaler"
      ],
      "execution_count": null,
      "outputs": []
    },
    {
      "cell_type": "markdown",
      "metadata": {
        "id": "bsmCzlREEwIo"
      },
      "source": [
        "##**iris 데이터 불러오기**"
      ]
    },
    {
      "cell_type": "code",
      "metadata": {
        "id": "1yTLBSvlEkBn"
      },
      "source": [
        "iris = datasets.load_iris()\n",
        "X = iris[\"data\"][:, (2, 3)]  # petal length, petal width\n",
        "y = iris[\"target\"]"
      ],
      "execution_count": null,
      "outputs": []
    },
    {
      "cell_type": "code",
      "metadata": {
        "id": "3KtZBu4OFyDU"
      },
      "source": [
        "print(y)"
      ],
      "execution_count": null,
      "outputs": []
    },
    {
      "cell_type": "code",
      "metadata": {
        "id": "0T4hu2VJE6Q2"
      },
      "source": [
        "setosa_or_versicolor = (y == 0) | (y == 1)\n",
        "X = X[setosa_or_versicolor]\n",
        "y = y[setosa_or_versicolor]"
      ],
      "execution_count": null,
      "outputs": []
    },
    {
      "cell_type": "code",
      "metadata": {
        "id": "Uy93bhnqFtam"
      },
      "source": [
        "print(setosa_or_versicolor)"
      ],
      "execution_count": null,
      "outputs": []
    },
    {
      "cell_type": "code",
      "metadata": {
        "id": "-9rz1QkZGHi2"
      },
      "source": [
        "print(y)"
      ],
      "execution_count": null,
      "outputs": []
    },
    {
      "cell_type": "markdown",
      "metadata": {
        "id": "8W1GkQLJE9TP"
      },
      "source": [
        "##**서포트 벡터 분류 모델 생성**"
      ]
    },
    {
      "cell_type": "markdown",
      "metadata": {
        "id": "B9TFP9bDGc8Z"
      },
      "source": [
        "###**학습 파라미터 설정**"
      ]
    },
    {
      "cell_type": "code",
      "metadata": {
        "id": "GKEjzdj0GgB0"
      },
      "source": [
        "C = 5\n",
        "alpha = 1 / (C * len(X))"
      ],
      "execution_count": null,
      "outputs": []
    },
    {
      "cell_type": "markdown",
      "metadata": {
        "id": "mWeBuqV3Io0U"
      },
      "source": [
        "###**입력 데이터 스케일 변환**"
      ]
    },
    {
      "cell_type": "code",
      "metadata": {
        "id": "gB3tecZ7IoY1"
      },
      "source": [
        "scaler = StandardScaler()\n",
        "X_scaled = scaler.fit_transform(X)"
      ],
      "execution_count": null,
      "outputs": []
    },
    {
      "cell_type": "code",
      "metadata": {
        "id": "EUqQMHoSmCgg"
      },
      "source": [
        "X_scaled"
      ],
      "execution_count": null,
      "outputs": []
    },
    {
      "cell_type": "markdown",
      "metadata": {
        "id": "w_OijmSsH8Cm"
      },
      "source": [
        "###**선형 SVM 회귀 모델 생성**"
      ]
    },
    {
      "cell_type": "code",
      "metadata": {
        "id": "_8wmowIaH-5U"
      },
      "source": [
        "lin_clf = LinearSVC(loss=\"hinge\", C=C, random_state=42)\n",
        "lin_clf.fit(X_scaled, y)"
      ],
      "execution_count": null,
      "outputs": []
    },
    {
      "cell_type": "markdown",
      "metadata": {
        "id": "stLcBIV-IMtx"
      },
      "source": [
        "###**다항식 커널을 사용한 SVM 분류 모델 생성**"
      ]
    },
    {
      "cell_type": "code",
      "metadata": {
        "id": "v5ewGBJ1ITnK"
      },
      "source": [
        "svm_clf = SVC(kernel=\"linear\", C=C)\n",
        "svm_clf.fit(X_scaled, y)"
      ],
      "execution_count": null,
      "outputs": []
    },
    {
      "cell_type": "markdown",
      "metadata": {
        "id": "0Om80CRhIbbc"
      },
      "source": [
        "###**확률적 경사하강법을 이용한 선형모델**"
      ]
    },
    {
      "cell_type": "code",
      "metadata": {
        "id": "UCCEFsAwIYxq"
      },
      "source": [
        "sgd_clf = SGDClassifier(loss=\"hinge\", learning_rate=\"constant\", eta0=0.001, tol=1e-3, alpha=alpha,\n",
        "                        max_iter=100000, random_state=42)\n",
        "sgd_clf.fit(X_scaled, y)"
      ],
      "execution_count": null,
      "outputs": []
    },
    {
      "cell_type": "markdown",
      "metadata": {
        "id": "fWb-40BXI3yG"
      },
      "source": [
        "##**각 분류기의 결정경계 확인**"
      ]
    },
    {
      "cell_type": "code",
      "metadata": {
        "id": "sWLbAvfJr_Zp"
      },
      "source": [
        "print(\"LinearSVC:                   \", lin_clf.intercept_, lin_clf.coef_)\n",
        "print(\"SVC:                         \", svm_clf.intercept_, svm_clf.coef_)\n",
        "print(\"SGDClassifier(alpha={:.5f}):\".format(sgd_clf.alpha), sgd_clf.intercept_, sgd_clf.coef_)"
      ],
      "execution_count": null,
      "outputs": []
    },
    {
      "cell_type": "markdown",
      "metadata": {
        "id": "ZQwtVDROJaz0"
      },
      "source": [
        "###**선형 SVM 회귀 모델의 기울기와 편향 계산**"
      ]
    },
    {
      "cell_type": "code",
      "metadata": {
        "id": "31cCDqw-JLwq"
      },
      "source": [
        "w1 = -lin_clf.coef_[0, 0]/lin_clf.coef_[0, 1] # 기울기 계산\n",
        "b1 = -lin_clf.intercept_[0]/lin_clf.coef_[0, 1] # 편향 계산"
      ],
      "execution_count": null,
      "outputs": []
    },
    {
      "cell_type": "markdown",
      "metadata": {
        "id": "Njk3MWfGJiNm"
      },
      "source": [
        "###**다항식 커널을 사용한 SVM 분류 모델의 기울기와 편향 계산**"
      ]
    },
    {
      "cell_type": "code",
      "metadata": {
        "id": "3R7wFUnGJMFj"
      },
      "source": [
        "w2 = -svm_clf.coef_[0, 0]/svm_clf.coef_[0, 1]\n",
        "b2 = -svm_clf.intercept_[0]/svm_clf.coef_[0, 1]"
      ],
      "execution_count": null,
      "outputs": []
    },
    {
      "cell_type": "markdown",
      "metadata": {
        "id": "QQUZ6BsxJrvF"
      },
      "source": [
        "###**확률적 경사하강법을 이용한 선형모델의 기울기와 편향 계산**"
      ]
    },
    {
      "cell_type": "code",
      "metadata": {
        "id": "DsA-lIHPKBJ3"
      },
      "source": [
        "w3 = -sgd_clf.coef_[0, 0]/sgd_clf.coef_[0, 1]\n",
        "b3 = -sgd_clf.intercept_[0]/sgd_clf.coef_[0, 1]"
      ],
      "execution_count": null,
      "outputs": []
    },
    {
      "cell_type": "markdown",
      "metadata": {
        "id": "8Zt_L49RKNPl"
      },
      "source": [
        "###**모든 모델의 결정경계를 원본 스케일로 재변환**"
      ]
    },
    {
      "cell_type": "code",
      "metadata": {
        "id": "lWPkIQH3KTb7"
      },
      "source": [
        "line1 = scaler.inverse_transform([[-10, -10 * w1 + b1], [10, 10 * w1 + b1]])"
      ],
      "execution_count": null,
      "outputs": []
    },
    {
      "cell_type": "code",
      "metadata": {
        "id": "7CfalIj5KXDu"
      },
      "source": [
        "line2 = scaler.inverse_transform([[-10, -10 * w2 + b2], [10, 10 * w2 + b2]])"
      ],
      "execution_count": null,
      "outputs": []
    },
    {
      "cell_type": "code",
      "metadata": {
        "id": "5Az30LnRKYVA"
      },
      "source": [
        "line3 = scaler.inverse_transform([[-10, -10 * w3 + b3], [10, 10 * w3 + b3]])"
      ],
      "execution_count": null,
      "outputs": []
    },
    {
      "cell_type": "markdown",
      "metadata": {
        "id": "PL5NAeT7KcV-"
      },
      "source": [
        "##**결정경계 시각화**"
      ]
    },
    {
      "cell_type": "code",
      "metadata": {
        "id": "5C3B01q0KnGa"
      },
      "source": [
        "# 맷플롯립 설정\n",
        "%matplotlib inline\n",
        "import matplotlib\n",
        "import matplotlib.pyplot as plt\n",
        "plt.rcParams['axes.labelsize'] = 20\n",
        "plt.rcParams['xtick.labelsize'] = 16\n",
        "plt.rcParams['ytick.labelsize'] = 16"
      ],
      "execution_count": null,
      "outputs": []
    },
    {
      "cell_type": "code",
      "metadata": {
        "id": "mVXuwCNsKcDC"
      },
      "source": [
        "plt.figure(figsize=(15, 6))\n",
        "plt.plot(line1[:, 0], line1[:, 1], \"k:\", label=\"LinearSVC\")\n",
        "plt.plot(line2[:, 0], line2[:, 1], \"b--\", linewidth=2, label=\"SVC\")\n",
        "plt.plot(line3[:, 0], line3[:, 1], \"r-\", label=\"SGDClassifier\")\n",
        "plt.plot(X[:, 0][y==1], X[:, 1][y==1], \"bs\") # label=\"Iris-Versicolor\"\n",
        "plt.plot(X[:, 0][y==0], X[:, 1][y==0], \"yo\") # label=\"Iris-Setosa\"\n",
        "plt.xlabel(\"Petal Length\", fontsize=14)\n",
        "plt.ylabel(\"Petal Width\", fontsize=14)\n",
        "plt.legend(loc=\"upper center\", fontsize=14)\n",
        "plt.axis([0, 5.5, 0, 2])\n",
        "plt.show()"
      ],
      "execution_count": null,
      "outputs": []
    },
    {
      "cell_type": "markdown",
      "metadata": {
        "id": "liKkl5Itc5E0"
      },
      "source": [
        "##**얼굴 인식**"
      ]
    },
    {
      "cell_type": "code",
      "metadata": {
        "id": "d4z7flpdc_s_"
      },
      "source": [
        "from sklearn.datasets import fetch_lfw_people\n",
        "faces = fetch_lfw_people(min_faces_per_person=60)\n",
        "print(faces.target_names)\n",
        "print(faces.images.shape)"
      ],
      "execution_count": null,
      "outputs": []
    },
    {
      "cell_type": "code",
      "metadata": {
        "id": "jsNqv6JfdBOv"
      },
      "source": [
        "fig, ax = plt.subplots(3, 5, figsize=(16, 6))\n",
        "for i, axi in enumerate(ax.flat):\n",
        "    axi.imshow(faces.images[i], cmap='bone')\n",
        "    axi.set(xticks=[], yticks=[],\n",
        "            xlabel=faces.target_names[faces.target[i]])"
      ],
      "execution_count": null,
      "outputs": []
    },
    {
      "cell_type": "code",
      "metadata": {
        "id": "tqGrgSL0dFf7"
      },
      "source": [
        "from sklearn.svm import SVC\n",
        "from sklearn.decomposition import PCA as RandomizedPCA\n",
        "from sklearn.pipeline import make_pipeline\n",
        "\n",
        "pca = RandomizedPCA(n_components=150, whiten=True, random_state=42)\n",
        "svc = SVC(kernel='rbf', class_weight='balanced')\n",
        "model = make_pipeline(pca, svc)"
      ],
      "execution_count": null,
      "outputs": []
    },
    {
      "cell_type": "code",
      "metadata": {
        "id": "ISTnMoMydbLu"
      },
      "source": [
        "from sklearn.model_selection import train_test_split\n",
        "Xtrain, Xtest, ytrain, ytest = train_test_split(faces.data, faces.target,\n",
        "                                                random_state=42)"
      ],
      "execution_count": null,
      "outputs": []
    },
    {
      "cell_type": "code",
      "metadata": {
        "id": "1BT0FFB6dnaM"
      },
      "source": [
        "# 감마값 최적값 찾기 \n",
        "from sklearn.model_selection import GridSearchCV\n",
        "param_grid = {'svc__C': [5, 10],\n",
        "              'svc__gamma': [0.001, 0.005]}\n",
        "grid = GridSearchCV(model, param_grid)\n",
        "\n",
        "grid.fit(Xtrain, ytrain)\n",
        "print(grid.best_params_)"
      ],
      "execution_count": null,
      "outputs": []
    },
    {
      "cell_type": "code",
      "metadata": {
        "id": "OBETwi6ldy6c"
      },
      "source": [
        "model = grid.best_estimator_\n",
        "yfit = model.predict(Xtest)"
      ],
      "execution_count": null,
      "outputs": []
    },
    {
      "cell_type": "code",
      "metadata": {
        "id": "gTwVbwsQqgHo"
      },
      "source": [
        "yfit"
      ],
      "execution_count": null,
      "outputs": []
    },
    {
      "cell_type": "code",
      "metadata": {
        "id": "VmnFaM1ueU_8"
      },
      "source": [
        "from sklearn.metrics import classification_report\n",
        "print(classification_report(ytest, yfit,\n",
        "                            target_names=faces.target_names))"
      ],
      "execution_count": null,
      "outputs": []
    },
    {
      "cell_type": "code",
      "metadata": {
        "id": "4XtMu0cceXEx"
      },
      "source": [
        "from sklearn.metrics import confusion_matrix\n",
        "mat = confusion_matrix(ytest, yfit)\n",
        "plt.figure(figsize=(5,5))\n",
        "sns.heatmap(mat, square=True, annot=True, fmt='d', cbar=False,\n",
        "            xticklabels=faces.target_names,\n",
        "            yticklabels=faces.target_names)\n",
        "plt.ylabel('true label')\n",
        "plt.xlabel('predicted label');"
      ],
      "execution_count": null,
      "outputs": []
    },
    {
      "cell_type": "code",
      "metadata": {
        "id": "uAZLzSl6eDt3"
      },
      "source": [
        "fig, ax = plt.subplots(4, 6,  figsize=(10, 6))\n",
        "for i, axi in enumerate(ax.flat):\n",
        "    axi.imshow(Xtest[i].reshape(62, 47), cmap='bone')\n",
        "    axi.set(xticks=[], yticks=[])\n",
        "    axi.set_ylabel(faces.target_names[yfit[i]].split()[-1],\n",
        "                   color='black' if yfit[i] == ytest[i] else 'red')\n",
        "fig.suptitle('Predicted Names; Incorrect Labels in Red', size=14);"
      ],
      "execution_count": null,
      "outputs": []
    }
  ]
}