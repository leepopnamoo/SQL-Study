{
  "nbformat": 4,
  "nbformat_minor": 0,
  "metadata": {
    "colab": {
      "name": "Annex_Random Over-Under Sampling.ipynb",
      "private_outputs": true,
      "provenance": [],
      "collapsed_sections": [],
      "include_colab_link": true
    },
    "kernelspec": {
      "name": "python3",
      "display_name": "Python 3"
    }
  },
  "cells": [
    {
      "cell_type": "markdown",
      "metadata": {
        "id": "view-in-github",
        "colab_type": "text"
      },
      "source": [
        "<a href=\"https://colab.research.google.com/github/leepopnamoo/SQL-Study/blob/main/Annex_Random_Over_Under_Sampling.ipynb\" target=\"_parent\"><img src=\"https://colab.research.google.com/assets/colab-badge.svg\" alt=\"Open In Colab\"/></a>"
      ]
    },
    {
      "cell_type": "markdown",
      "metadata": {
        "id": "wLu1uNRHlU7z"
      },
      "source": [
        "#**Imbalanced Data**"
      ]
    },
    {
      "cell_type": "markdown",
      "metadata": {
        "id": "oIXG3Jjz41if"
      },
      "source": [
        "##***데이터 불러오기***"
      ]
    },
    {
      "cell_type": "code",
      "metadata": {
        "id": "glDJ_3xj41TZ"
      },
      "source": [
        "from google.colab import drive\n",
        "drive.mount('/content/drive')"
      ],
      "execution_count": null,
      "outputs": []
    },
    {
      "cell_type": "code",
      "metadata": {
        "id": "fVokiDAF5JSZ"
      },
      "source": [
        "import pandas as pd\n",
        "pima_data = pd.read_csv(\"/content/pima-indians-diabetes.csv\", header=None)"
      ],
      "execution_count": null,
      "outputs": []
    },
    {
      "cell_type": "code",
      "metadata": {
        "id": "Ii74TK3S5bjr"
      },
      "source": [
        "pima_data.head()"
      ],
      "execution_count": null,
      "outputs": []
    },
    {
      "cell_type": "code",
      "metadata": {
        "id": "YPlM-41D6OCl"
      },
      "source": [
        "pima_data.columns = ['Pregnancies','Glucose', 'BloodPressure', 'SkinThickness', 'Insulin', 'BMI', 'Diabetes pedigree', 'Age', 'Outcome']"
      ],
      "execution_count": null,
      "outputs": []
    },
    {
      "cell_type": "code",
      "metadata": {
        "id": "EMG4Vfd97gyG"
      },
      "source": [
        "pima_data.head()"
      ],
      "execution_count": null,
      "outputs": []
    },
    {
      "cell_type": "code",
      "metadata": {
        "id": "5RMjBTfX7q--"
      },
      "source": [
        "x = pima_data.iloc[:,0:8]\n",
        "x"
      ],
      "execution_count": null,
      "outputs": []
    },
    {
      "cell_type": "code",
      "metadata": {
        "id": "Z3GCTz107080"
      },
      "source": [
        "y = pima_data.iloc[:,8]\n",
        "y"
      ],
      "execution_count": null,
      "outputs": []
    },
    {
      "cell_type": "code",
      "metadata": {
        "id": "ICYz6rUf8JmT"
      },
      "source": [
        "pd.value_counts(y)"
      ],
      "execution_count": null,
      "outputs": []
    },
    {
      "cell_type": "code",
      "metadata": {
        "id": "vJ8lJkM5rqf7"
      },
      "source": [
        "from sklearn.model_selection import train_test_split\n",
        "from sklearn.tree import DecisionTreeClassifier"
      ],
      "execution_count": null,
      "outputs": []
    },
    {
      "cell_type": "code",
      "metadata": {
        "id": "ac7td90frzZT"
      },
      "source": [
        "x_train, x_test, y_train, y_test = train_test_split(x, y, \n",
        "                                                    stratify=y, test_size=0.2, random_state=1000)\n",
        "print(\"훈련용 데이터 크기(레코드, 필드): {}\".format(x_train.shape))\n",
        "print(\"테스트용 데이터 크기(레코드, 필드): {}\".format(x_test.shape))"
      ],
      "execution_count": null,
      "outputs": []
    },
    {
      "cell_type": "code",
      "metadata": {
        "id": "jzB2TQGAsObf"
      },
      "source": [
        "tree_1 = DecisionTreeClassifier(random_state=0)\n",
        "tree_1.fit(x_train, y_train)"
      ],
      "execution_count": null,
      "outputs": []
    },
    {
      "cell_type": "code",
      "metadata": {
        "id": "BkEXpsfmsh-8"
      },
      "source": [
        "print(\"훈련 데이터 집합 정확도: {:.3f}\".format(tree_1.score(x_train, y_train)))\n",
        "print(\"테스트 데이터 집합 정확도: {:.3f}\".format(tree_1.score(x_test, y_test)))"
      ],
      "execution_count": null,
      "outputs": []
    },
    {
      "cell_type": "code",
      "metadata": {
        "id": "Gdz3jpS5sSUQ"
      },
      "source": [
        "from sklearn.metrics import accuracy_score \n",
        "from sklearn.metrics import classification_report"
      ],
      "execution_count": null,
      "outputs": []
    },
    {
      "cell_type": "code",
      "metadata": {
        "id": "BfERULznsdIn"
      },
      "source": [
        "y_pred = tree_1.predict(x_test)"
      ],
      "execution_count": null,
      "outputs": []
    },
    {
      "cell_type": "code",
      "metadata": {
        "id": "VlbV2JyHsX6N"
      },
      "source": [
        "print('Accuracy Score : {}'.format(accuracy_score(y_test, y_pred)))\n",
        "print(classification_report(y_test, y_pred, target_names=['class 0', 'class 1']))"
      ],
      "execution_count": null,
      "outputs": []
    },
    {
      "cell_type": "markdown",
      "metadata": {
        "id": "MrAUTV6ClbB5"
      },
      "source": [
        "##***Random Over Sampling***"
      ]
    },
    {
      "cell_type": "code",
      "metadata": {
        "id": "5EK42Owelh6h"
      },
      "source": [
        "from imblearn.over_sampling import RandomOverSampler\n",
        "rand_over_sample = RandomOverSampler(sampling_strategy='minority', random_state=41)\n",
        "x_over, y_over = rand_over_sample.fit_resample(x_train, y_train)\n",
        "print(x_over)"
      ],
      "execution_count": null,
      "outputs": []
    },
    {
      "cell_type": "code",
      "metadata": {
        "id": "8OCm6p-Y8BIs"
      },
      "source": [
        "print(\"훈련용 입력 데이터 크기(레코드, 필드): {}\".format(x_over.shape))\n",
        "print(\"훈련용 목표 데이터 크기(레코드, 필드): {}\".format(y_over.shape))"
      ],
      "execution_count": null,
      "outputs": []
    },
    {
      "cell_type": "code",
      "metadata": {
        "id": "Xs3-I0Jd81qv"
      },
      "source": [
        "pd.value_counts(y_over)"
      ],
      "execution_count": null,
      "outputs": []
    },
    {
      "cell_type": "code",
      "metadata": {
        "id": "bLx8JvZis9h1"
      },
      "source": [
        "tree_over = DecisionTreeClassifier(random_state=0)\n",
        "tree_over.fit(x_over, y_over)"
      ],
      "execution_count": null,
      "outputs": []
    },
    {
      "cell_type": "code",
      "metadata": {
        "id": "oiWmhZZxtNR1"
      },
      "source": [
        "print(\"훈련 데이터 집합 정확도: {:.3f}\".format(tree_over.score(x_over, y_over)))\n",
        "print(\"테스트 데이터 집합 정확도: {:.3f}\".format(tree_over.score(x_test, y_test)))"
      ],
      "execution_count": null,
      "outputs": []
    },
    {
      "cell_type": "code",
      "metadata": {
        "id": "0f15U3Zgtnq7"
      },
      "source": [
        "y_pred_over = tree_over.predict(x_test)"
      ],
      "execution_count": null,
      "outputs": []
    },
    {
      "cell_type": "code",
      "metadata": {
        "id": "j2hrfmMGtwF4"
      },
      "source": [
        "print('Accuracy Score : {}'.format(accuracy_score(y_test, y_pred_over)))\n",
        "print(classification_report(y_test, y_pred_over, target_names=['class 0', 'class 1']))"
      ],
      "execution_count": null,
      "outputs": []
    },
    {
      "cell_type": "markdown",
      "metadata": {
        "id": "_8YlxVOJlkSy"
      },
      "source": [
        "##***Random Under Sampling***"
      ]
    },
    {
      "cell_type": "code",
      "metadata": {
        "id": "Jw3fcL5yltCR"
      },
      "source": [
        "from imblearn.under_sampling import RandomUnderSampler\n",
        "rand_under_sample = RandomUnderSampler(sampling_strategy='majority', random_state=41)"
      ],
      "execution_count": null,
      "outputs": []
    },
    {
      "cell_type": "code",
      "metadata": {
        "id": "1tqcm1xc_s7g"
      },
      "source": [
        "x_under, y_under = rand_under_sample.fit_resample(x_train, y_train)\n",
        "print(x_under)"
      ],
      "execution_count": null,
      "outputs": []
    },
    {
      "cell_type": "code",
      "metadata": {
        "id": "mffiLodC_xv0"
      },
      "source": [
        "print(\"훈련용 입력 데이터 크기(레코드, 필드): {}\".format(x_under.shape))\n",
        "print(\"훈련용 목표 데이터 크기(레코드, 필드): {}\".format(y_under.shape))"
      ],
      "execution_count": null,
      "outputs": []
    },
    {
      "cell_type": "code",
      "metadata": {
        "id": "1F8ctSlD__x1"
      },
      "source": [
        "pd.value_counts(y_under)"
      ],
      "execution_count": null,
      "outputs": []
    },
    {
      "cell_type": "code",
      "metadata": {
        "id": "XHr4PRVSvvXo"
      },
      "source": [
        "tree_under = DecisionTreeClassifier(random_state=0)\n",
        "tree_under.fit(x_under, y_under)"
      ],
      "execution_count": null,
      "outputs": []
    },
    {
      "cell_type": "code",
      "metadata": {
        "id": "2royAVWCv4u3"
      },
      "source": [
        "print(\"훈련 데이터 집합 정확도: {:.3f}\".format(tree_under.score(x_under, y_under)))\n",
        "print(\"테스트 데이터 집합 정확도: {:.3f}\".format(tree_under.score(x_test, y_test)))"
      ],
      "execution_count": null,
      "outputs": []
    },
    {
      "cell_type": "code",
      "metadata": {
        "id": "uIdopusVwEAm"
      },
      "source": [
        "y_pred_under = tree_under.predict(x_test)"
      ],
      "execution_count": null,
      "outputs": []
    },
    {
      "cell_type": "code",
      "metadata": {
        "id": "yHr49vxhwR7_"
      },
      "source": [
        "print('Accuracy Score : {}'.format(accuracy_score(y_test, y_pred_under)))\n",
        "print(classification_report(y_test, y_pred_under, target_names=['class 0', 'class 1']))"
      ],
      "execution_count": null,
      "outputs": []
    }
  ]
}