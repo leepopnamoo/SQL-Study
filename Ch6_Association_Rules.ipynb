{
  "nbformat": 4,
  "nbformat_minor": 0,
  "metadata": {
    "colab": {
      "name": "Ch6_Association Rules.ipynb",
      "private_outputs": true,
      "provenance": [],
      "collapsed_sections": [],
      "include_colab_link": true
    },
    "kernelspec": {
      "name": "python3",
      "display_name": "Python 3"
    }
  },
  "cells": [
    {
      "cell_type": "markdown",
      "metadata": {
        "id": "view-in-github",
        "colab_type": "text"
      },
      "source": [
        "<a href=\"https://colab.research.google.com/github/leepopnamoo/SQL-Study/blob/main/Ch6_Association_Rules.ipynb\" target=\"_parent\"><img src=\"https://colab.research.google.com/assets/colab-badge.svg\" alt=\"Open In Colab\"/></a>"
      ]
    },
    {
      "cell_type": "markdown",
      "metadata": {
        "id": "Vjyyq3WRh3f6"
      },
      "source": [
        "#***연관분석 -Lab 1***"
      ]
    },
    {
      "cell_type": "markdown",
      "metadata": {
        "id": "QyzSHdM-iZ2C"
      },
      "source": [
        "##***주요 라이브러리 불러오기***"
      ]
    },
    {
      "cell_type": "code",
      "metadata": {
        "id": "a8McXyeZaXQv"
      },
      "source": [
        "import pandas as pd\n",
        "from mlxtend.frequent_patterns import apriori\n",
        "from mlxtend.frequent_patterns import association_rules"
      ],
      "execution_count": null,
      "outputs": []
    },
    {
      "cell_type": "markdown",
      "metadata": {
        "id": "BfUwClNQvB71"
      },
      "source": [
        "##***아이템 리스트 생성하기***"
      ]
    },
    {
      "cell_type": "code",
      "metadata": {
        "id": "j22bDKksvPpt"
      },
      "source": [
        "transaction_lists = [['생선', '우유', '치즈', '빵'],\n",
        "           ['치즈', '우유', '사과', '과자', '빵'],\n",
        "           ['사과', '우유', '빵', '과자'],\n",
        "           ['빵', '우유', '치즈', '생선'],\n",
        "           ['과자','사과']]"
      ],
      "execution_count": null,
      "outputs": []
    },
    {
      "cell_type": "code",
      "metadata": {
        "id": "AMDKANUIvXMN"
      },
      "source": [
        "print(transaction_lists)"
      ],
      "execution_count": null,
      "outputs": []
    },
    {
      "cell_type": "markdown",
      "metadata": {
        "id": "Wb4-w3JVfrsc"
      },
      "source": [
        "##***연관규칙 생성하기***"
      ]
    },
    {
      "cell_type": "markdown",
      "metadata": {
        "id": "Zc_wF_bWf7n4"
      },
      "source": [
        "###***거래 데이터 형식으로 변환하기***"
      ]
    },
    {
      "cell_type": "code",
      "metadata": {
        "id": "eCA5upOmvZRN"
      },
      "source": [
        "import pandas as pd\n",
        "from mlxtend.preprocessing import TransactionEncoder\n",
        "\n",
        "TrEn = TransactionEncoder()\n",
        "TrEn_ary = TrEn.fit(transaction_lists).transform(transaction_lists)\n",
        "df = pd.DataFrame(TrEn_ary, columns=TrEn.columns_)\n",
        "df"
      ],
      "execution_count": null,
      "outputs": []
    },
    {
      "cell_type": "markdown",
      "metadata": {
        "id": "HC7Grs88gEmh"
      },
      "source": [
        "###***최소 지지도(support) 기준 아이템 집합 생성***"
      ]
    },
    {
      "cell_type": "code",
      "metadata": {
        "id": "Szjp8wVjvjRV"
      },
      "source": [
        "from mlxtend.frequent_patterns import apriori\n",
        "frequent_itemsets =apriori(df, min_support=0.1, use_colnames=True, max_len=2)"
      ],
      "execution_count": null,
      "outputs": []
    },
    {
      "cell_type": "code",
      "metadata": {
        "id": "3e-tpUSyegRK"
      },
      "source": [
        "frequent_itemsets"
      ],
      "execution_count": null,
      "outputs": []
    },
    {
      "cell_type": "markdown",
      "metadata": {
        "id": "gtQ53FSBgjVv"
      },
      "source": [
        "###***연관규칙 생성하기***"
      ]
    },
    {
      "cell_type": "code",
      "metadata": {
        "id": "moUQxR2neYS9"
      },
      "source": [
        "from mlxtend.frequent_patterns import association_rules\n",
        "confidence_sets = association_rules(frequent_itemsets, metric=\"confidence\", min_threshold= 0.1)"
      ],
      "execution_count": null,
      "outputs": []
    },
    {
      "cell_type": "code",
      "metadata": {
        "id": "lZC6hK19epup"
      },
      "source": [
        "confidence_sets"
      ],
      "execution_count": null,
      "outputs": []
    },
    {
      "cell_type": "markdown",
      "metadata": {
        "id": "dshbQmZmvqLd"
      },
      "source": [
        "##***결과 선택 및 필터***"
      ]
    },
    {
      "cell_type": "code",
      "metadata": {
        "id": "684j5FVEyoEO"
      },
      "source": [
        "confidence_sets[\"antecedent_len\"] = confidence_sets[\"antecedents\"].apply(lambda x: len(x))\n",
        "confidence_sets"
      ],
      "execution_count": null,
      "outputs": []
    },
    {
      "cell_type": "code",
      "metadata": {
        "id": "oCV4ibbcy28l"
      },
      "source": [
        "confidence_sets[(confidence_sets['antecedent_len'] >= 1) &\n",
        "       (confidence_sets['confidence'] > 0.3) &\n",
        "       (confidence_sets['lift'] > 1.2) ]"
      ],
      "execution_count": null,
      "outputs": []
    },
    {
      "cell_type": "code",
      "metadata": {
        "id": "a_Slh2ihiQfL"
      },
      "source": [
        "confidence_sets[confidence_sets['lift'] >1.6]"
      ],
      "execution_count": null,
      "outputs": []
    },
    {
      "cell_type": "markdown",
      "metadata": {
        "id": "7sD5Qv8SbC_h"
      },
      "source": [
        "#***연관분석 -Lab 2***"
      ]
    },
    {
      "cell_type": "markdown",
      "metadata": {
        "id": "uIoJTJq8bHKI"
      },
      "source": [
        "##***데이터 불러오기***"
      ]
    },
    {
      "cell_type": "code",
      "metadata": {
        "id": "UVzhjhhWb_7Y"
      },
      "source": [
        "from google.colab import files\n",
        "uploaded = files.upload()"
      ],
      "execution_count": null,
      "outputs": []
    },
    {
      "cell_type": "code",
      "metadata": {
        "id": "Jca-zMd2Qln9"
      },
      "source": [
        "from google.colab import drive\n",
        "drive.mount('/content/drive')"
      ],
      "execution_count": null,
      "outputs": []
    },
    {
      "cell_type": "code",
      "metadata": {
        "id": "cdM7CxPhc5Pu"
      },
      "source": [
        "import pandas as pd\n",
        "dataset = pd.read_csv('/content/drive/MyDrive/Colab Notebooks/빅데이터러닝센터_머신러닝&모델링_Day2/BASKETS1n.txt', sep=',')"
      ],
      "execution_count": null,
      "outputs": []
    },
    {
      "cell_type": "code",
      "metadata": {
        "id": "Rmo8r_2A4mRo"
      },
      "source": [
        "import pandas as pd\n",
        "dataset = pd.read_csv('/content/BASKETS1n.txt', sep=',')"
      ],
      "execution_count": null,
      "outputs": []
    },
    {
      "cell_type": "markdown",
      "metadata": {
        "id": "jhXT2xgZbSIp"
      },
      "source": [
        "##***데이터  확인***"
      ]
    },
    {
      "cell_type": "markdown",
      "metadata": {
        "id": "1G9wf2O3bXGM"
      },
      "source": [
        "###***데이터  레코드(행), 필드(열) 수 확인***"
      ]
    },
    {
      "cell_type": "code",
      "metadata": {
        "id": "bNhySoL1bUOo"
      },
      "source": [
        "print(\"데이터 크기(레코드, 필드): {}\".format(dataset.shape))"
      ],
      "execution_count": null,
      "outputs": []
    },
    {
      "cell_type": "code",
      "metadata": {
        "id": "0GjvpNjJ5BX3"
      },
      "source": [
        "dataset.head()"
      ],
      "execution_count": null,
      "outputs": []
    },
    {
      "cell_type": "code",
      "metadata": {
        "id": "B-MiGIqg5E3X"
      },
      "source": [
        "dataset.info()"
      ],
      "execution_count": null,
      "outputs": []
    },
    {
      "cell_type": "markdown",
      "metadata": {
        "id": "jV4AmDwBbf3y"
      },
      "source": [
        "###***첫번째 레코드(행) 부터 일부 데이터  확인***"
      ]
    },
    {
      "cell_type": "code",
      "metadata": {
        "id": "ECmQrnsZVd8G"
      },
      "source": [
        "dataset.head(10)"
      ],
      "execution_count": null,
      "outputs": []
    },
    {
      "cell_type": "code",
      "metadata": {
        "id": "sMman66igsFY"
      },
      "source": [
        "dataset.tail()"
      ],
      "execution_count": null,
      "outputs": []
    },
    {
      "cell_type": "markdown",
      "metadata": {
        "id": "Qm6UUo9Kbzzx"
      },
      "source": [
        "###***필드(열)별 갯수, 타입 확인***"
      ]
    },
    {
      "cell_type": "code",
      "metadata": {
        "id": "Lg_9PtVxdhqu"
      },
      "source": [
        "print(dataset.info())"
      ],
      "execution_count": null,
      "outputs": []
    },
    {
      "cell_type": "markdown",
      "metadata": {
        "id": "6mqh-2Bcb8am"
      },
      "source": [
        "###***수치형 필드(열) 요약 정보 확인***"
      ]
    },
    {
      "cell_type": "code",
      "metadata": {
        "id": "EXQO2R30cBe2"
      },
      "source": [
        "print(dataset.describe())"
      ],
      "execution_count": null,
      "outputs": []
    },
    {
      "cell_type": "markdown",
      "metadata": {
        "id": "Ydbj4XZ5cX-C"
      },
      "source": [
        "##***연관규칙 생성을 위한 데이터  변환***"
      ]
    },
    {
      "cell_type": "markdown",
      "metadata": {
        "id": "WbtbTvSgceVu"
      },
      "source": [
        "###***품목 필드 선택 및 저장***"
      ]
    },
    {
      "cell_type": "code",
      "metadata": {
        "id": "bm8KJXkRd-UP"
      },
      "source": [
        "transaction_data = dataset.iloc[:,7:]\n",
        "transaction_data.head()"
      ],
      "execution_count": null,
      "outputs": []
    },
    {
      "cell_type": "markdown",
      "metadata": {
        "id": "gFDEjaECczBL"
      },
      "source": [
        "###***1번째 행 선택 및 출력***"
      ]
    },
    {
      "cell_type": "code",
      "metadata": {
        "id": "pVIOxHp0Z0Tf"
      },
      "source": [
        "transaction_data.iloc[0,:]"
      ],
      "execution_count": null,
      "outputs": []
    },
    {
      "cell_type": "markdown",
      "metadata": {
        "id": "JmLunVljc-S6"
      },
      "source": [
        "###***1번째 행  데이터  타입 확인***"
      ]
    },
    {
      "cell_type": "code",
      "metadata": {
        "id": "GnFFyAIXaWnT"
      },
      "source": [
        "type(transaction_data.iloc[0,0])"
      ],
      "execution_count": null,
      "outputs": []
    },
    {
      "cell_type": "markdown",
      "metadata": {
        "id": "jfmOc4c6dIfc"
      },
      "source": [
        "###***데이터  타입 변환 및 확인 - 논리형(True/False)***"
      ]
    },
    {
      "cell_type": "code",
      "metadata": {
        "id": "uQvfns_FV0ay"
      },
      "source": [
        "transaction_data_bool = transaction_data.applymap(lambda x: True if x == 'T' else False)"
      ],
      "execution_count": null,
      "outputs": []
    },
    {
      "cell_type": "code",
      "metadata": {
        "id": "bC0zNhRBWx1C"
      },
      "source": [
        "transaction_data_bool"
      ],
      "execution_count": null,
      "outputs": []
    },
    {
      "cell_type": "code",
      "metadata": {
        "id": "MuajPTxRaQti"
      },
      "source": [
        "type(transaction_data_bool.iloc[0,0])"
      ],
      "execution_count": null,
      "outputs": []
    },
    {
      "cell_type": "markdown",
      "metadata": {
        "id": "jD3870FTdX35"
      },
      "source": [
        "##***연관규칙 생성***"
      ]
    },
    {
      "cell_type": "code",
      "metadata": {
        "id": "1U4tpsGcdrzm"
      },
      "source": [
        "from mlxtend.frequent_patterns import apriori\n",
        "from mlxtend.frequent_patterns import association_rules"
      ],
      "execution_count": null,
      "outputs": []
    },
    {
      "cell_type": "markdown",
      "metadata": {
        "id": "Nf8WvXHJdj0A"
      },
      "source": [
        "###***거래 집합 생성 - 최소지지도, 최대 품목 수 기준***"
      ]
    },
    {
      "cell_type": "code",
      "metadata": {
        "id": "lCGe0QpBXCCL"
      },
      "source": [
        "#frequent_itemsets= apriori(transaction_data, min_support=0.1, use_colnames=True, max_len=None)\n",
        "frequent_itemsets= apriori(transaction_data_bool, min_support=0.1, use_colnames=True, max_len=None)"
      ],
      "execution_count": null,
      "outputs": []
    },
    {
      "cell_type": "code",
      "metadata": {
        "id": "NSFdEgmJQ89N"
      },
      "source": [
        "frequent_itemsets"
      ],
      "execution_count": null,
      "outputs": []
    },
    {
      "cell_type": "markdown",
      "metadata": {
        "id": "5cJWvZbldxz0"
      },
      "source": [
        "###***연관규칙 생성 및 확인 - 최소 신뢰도 기준***"
      ]
    },
    {
      "cell_type": "code",
      "metadata": {
        "id": "JViYa2IhXFKH"
      },
      "source": [
        "confidence_sets = association_rules(frequent_itemsets, metric=\"confidence\", min_threshold=0.2)"
      ],
      "execution_count": null,
      "outputs": []
    },
    {
      "cell_type": "code",
      "metadata": {
        "id": "TR7ovmlkb-CO"
      },
      "source": [
        "confidence_sets"
      ],
      "execution_count": null,
      "outputs": []
    },
    {
      "cell_type": "markdown",
      "metadata": {
        "id": "2swG7slNeDGx"
      },
      "source": [
        "###***연관규칙 필터 - 품목 기준***"
      ]
    },
    {
      "cell_type": "code",
      "metadata": {
        "id": "EehKL2obcZ36"
      },
      "source": [
        "confidence_sets[confidence_sets['consequents'] =={'beer'}]"
      ],
      "execution_count": null,
      "outputs": []
    }
  ]
}