{
  "nbformat": 4,
  "nbformat_minor": 0,
  "metadata": {
    "colab": {
      "name": "Ch2_DecisionTree_Lab.ipynb",
      "private_outputs": true,
      "provenance": [],
      "collapsed_sections": []
    },
    "kernelspec": {
      "name": "python3",
      "display_name": "Python 3"
    }
  },
  "cells": [
    {
      "cell_type": "markdown",
      "metadata": {
        "id": "g7hPkyemV6Fp"
      },
      "source": [
        "##**(데이터 불러오기 방법 - 1) 로컬 컴퓨터 위치에 저장되어 있는 파일 Colab으로 저장하기**"
      ]
    },
    {
      "cell_type": "code",
      "metadata": {
        "id": "KFjUsq5pWOPo"
      },
      "source": [
        "from google.colab import files\n",
        "uploaded = files.upload()"
      ],
      "execution_count": null,
      "outputs": []
    },
    {
      "cell_type": "code",
      "metadata": {
        "id": "6i6sl1xLWTKi"
      },
      "source": [
        "import pandas as pd\n",
        "dataset = pd.read_csv(\"파일명\")\n",
        "print(dataset)\n",
        "print(\"데이터 크기(레코드, 필드): {}\".format(dataset.shape))"
      ],
      "execution_count": null,
      "outputs": []
    },
    {
      "cell_type": "markdown",
      "metadata": {
        "id": "bi2n0hEmXG0X"
      },
      "source": [
        "##**(데이터 불러오기 방법 - 2) 파일을 구글 드라이브에 업로드 후, Colab 연결하여 불러오기**"
      ]
    },
    {
      "cell_type": "code",
      "metadata": {
        "id": "juK_ohSTXQ0Z"
      },
      "source": [
        "from google.colab import drive\n",
        "drive.mount('/content/gdrive')"
      ],
      "execution_count": null,
      "outputs": []
    },
    {
      "cell_type": "code",
      "metadata": {
        "id": "sWz9khbHXV-e"
      },
      "source": [
        "import pandas as pd\n",
        "dataset = pd.read_csv(\"/content/gdrive/My Drive/파일명\")\n",
        "print(dataset)\n",
        "print(\"데이터 크기(레코드, 필드): {}\".format(dataset.shape))"
      ],
      "execution_count": null,
      "outputs": []
    },
    {
      "cell_type": "markdown",
      "metadata": {
        "id": "xM1shw3_leSl"
      },
      "source": [
        "#**Ch5_의사결정 나무 실습**"
      ]
    },
    {
      "cell_type": "markdown",
      "metadata": {
        "id": "TkaDUUHlmNdo"
      },
      "source": [
        "##**의사결정나무 생성을 위해 필요한 라이브러리 불러오기**"
      ]
    },
    {
      "cell_type": "code",
      "metadata": {
        "id": "WiR3tup2kX4g"
      },
      "source": [
        "from sklearn.datasets import load_breast_cancer\n",
        "from sklearn.model_selection import train_test_split\n",
        "from sklearn.tree import DecisionTreeClassifier\n",
        "import numpy as np\n",
        "import matplotlib.pyplot as plt"
      ],
      "execution_count": null,
      "outputs": []
    },
    {
      "cell_type": "markdown",
      "metadata": {
        "id": "gtEJGoiSmjoq"
      },
      "source": [
        "##**데이터 불러오기(scikit-learn 라이브러리 제공 데이터)**"
      ]
    },
    {
      "cell_type": "code",
      "metadata": {
        "id": "5Mi9M3e-kgKv"
      },
      "source": [
        "cancer = load_breast_cancer()\n",
        "print(cancer)"
      ],
      "execution_count": null,
      "outputs": []
    },
    {
      "cell_type": "markdown",
      "metadata": {
        "id": "ZHvylfXMmn2m"
      },
      "source": [
        "##**데이터 확인**"
      ]
    },
    {
      "cell_type": "code",
      "metadata": {
        "id": "u8LZvIEgghOx"
      },
      "source": [
        "import pandas as pd\n",
        "df = pd.DataFrame(data=cancer.data, columns=cancer.feature_names)\n",
        "df['class']=cancer.target\n",
        "df.head()"
      ],
      "execution_count": null,
      "outputs": []
    },
    {
      "cell_type": "code",
      "metadata": {
        "id": "VIiCeQNWeIsx"
      },
      "source": [
        "df.info()"
      ],
      "execution_count": null,
      "outputs": []
    },
    {
      "cell_type": "code",
      "metadata": {
        "id": "eTrAqKxLeMhc"
      },
      "source": [
        "df.describe()"
      ],
      "execution_count": null,
      "outputs": []
    },
    {
      "cell_type": "code",
      "metadata": {
        "id": "pn3EUaJHkwuM"
      },
      "source": [
        "print(\"데이터 크기(레코드, 필드): {}\".format(cancer.data.shape))\n",
        "print(\"필드명 목록:\\n{}\".format(cancer.feature_names))"
      ],
      "execution_count": null,
      "outputs": []
    },
    {
      "cell_type": "markdown",
      "metadata": {
        "id": "Ym1PzZ0lmudu"
      },
      "source": [
        "##**훈련용(80%), 테스트용(20%)으로 분류, 각 데이터 집합별 레코드 수 확인**"
      ]
    },
    {
      "cell_type": "code",
      "metadata": {
        "id": "DGn7JGAllYhl"
      },
      "source": [
        "X_train, X_test, y_train, y_test = train_test_split(cancer.data, cancer.target, \n",
        "                                                    stratify=cancer.target, test_size=0.2, random_state=1000)\n",
        "print(\"훈련용 데이터 크기(레코드, 필드): {}\".format(X_train.shape))\n",
        "print(\"테스트용 데이터 크기(레코드, 필드): {}\".format(X_test.shape))"
      ],
      "execution_count": null,
      "outputs": []
    },
    {
      "cell_type": "markdown",
      "metadata": {
        "id": "tCgcTkpSm6Xo"
      },
      "source": [
        "##**의사결정나무 생성하기 1 - 기본**"
      ]
    },
    {
      "cell_type": "markdown",
      "metadata": {
        "id": "p8yLGTekpXV1"
      },
      "source": [
        "###**의사결정나무 생성**"
      ]
    },
    {
      "cell_type": "code",
      "metadata": {
        "id": "OWu3FNOLl1sC"
      },
      "source": [
        "tree_1 = DecisionTreeClassifier(random_state=0)\n",
        "tree_1.fit(X_train, y_train)"
      ],
      "execution_count": null,
      "outputs": []
    },
    {
      "cell_type": "code",
      "metadata": {
        "id": "9EkpHf3jew79"
      },
      "source": [
        "tree_1.feature_importances_"
      ],
      "execution_count": null,
      "outputs": []
    },
    {
      "cell_type": "markdown",
      "metadata": {
        "id": "PWvr2yh4rLBK"
      },
      "source": [
        "###**의사결정나무 결과 시각화**"
      ]
    },
    {
      "cell_type": "markdown",
      "metadata": {
        "id": "BL3cYYX6qtu5"
      },
      "source": [
        "**의사결정나무 시각화를 위한 라이브러리 불러오기**"
      ]
    },
    {
      "cell_type": "code",
      "metadata": {
        "id": "U0AOSTxEmZxB"
      },
      "source": [
        "from sklearn.tree import export_graphviz\n",
        "import graphviz"
      ],
      "execution_count": null,
      "outputs": []
    },
    {
      "cell_type": "markdown",
      "metadata": {
        "id": "ONny6W20nTj-"
      },
      "source": [
        "**의사결정나무 시각화 서식 생성**"
      ]
    },
    {
      "cell_type": "code",
      "metadata": {
        "id": "YPgpT-Wco6XC"
      },
      "source": [
        "export_graphviz(tree_1, out_file=\"tree_1.dot\", class_names=[\"M(Malignant Tumor)\", \"B(Benign Tumor)\"], feature_names=cancer.feature_names, impurity=False, filled=True)"
      ],
      "execution_count": null,
      "outputs": []
    },
    {
      "cell_type": "markdown",
      "metadata": {
        "id": "WapC61u-n5jU"
      },
      "source": [
        "**의사결정나무 시각화 실행**"
      ]
    },
    {
      "cell_type": "code",
      "metadata": {
        "id": "B6kXY5lNo9xu"
      },
      "source": [
        "with open(\"tree_1.dot\", encoding='UTF8') as f:\n",
        "    dot_graph = f.read()\n",
        "    decesion_tree = graphviz.Source(dot_graph)\n",
        "    display(decesion_tree)"
      ],
      "execution_count": null,
      "outputs": []
    },
    {
      "cell_type": "markdown",
      "metadata": {
        "id": "t3VHHgzWbVre"
      },
      "source": [
        "**의사결정나무 시각화 저장**"
      ]
    },
    {
      "cell_type": "code",
      "metadata": {
        "id": "6TUOWenrad-F"
      },
      "source": [
        "graphviz.Source(dot_graph, format='png').view()"
      ],
      "execution_count": null,
      "outputs": []
    },
    {
      "cell_type": "markdown",
      "metadata": {
        "id": "rJhxGiSyqmH2"
      },
      "source": [
        "###**의사결정나무 변수별 중요도 확인**"
      ]
    },
    {
      "cell_type": "markdown",
      "metadata": {
        "id": "z_UJyudqoyfh"
      },
      "source": [
        "**의사결정나무의 중요 변수를 확인하기 위한 함수 정의**"
      ]
    },
    {
      "cell_type": "code",
      "metadata": {
        "id": "a47myhQpmUIK"
      },
      "source": [
        "def plot_feature_importances_cancer(model):\n",
        "     n_features = cancer.data.shape[1]\n",
        "     plt.figure(figsize=(10, 10))\n",
        "     plt.barh(range(n_features), model.feature_importances_, align='center')\n",
        "     plt.yticks(np.arange(n_features), cancer.feature_names)\n",
        "     plt.xlabel(\"Importance by Features\")\n",
        "     plt.ylabel(\"Features\")\n",
        "     plt.ylim(-1, n_features)\n",
        "     plt.show()"
      ],
      "execution_count": null,
      "outputs": []
    },
    {
      "cell_type": "markdown",
      "metadata": {
        "id": "UiYj-AaKmyDu"
      },
      "source": [
        "**변수별 중요도 시각화 하기**"
      ]
    },
    {
      "cell_type": "code",
      "metadata": {
        "id": "BJQ1xhg2mXaq"
      },
      "source": [
        "plot_feature_importances_cancer(tree_1)"
      ],
      "execution_count": null,
      "outputs": []
    },
    {
      "cell_type": "markdown",
      "metadata": {
        "id": "6dbiJk9XoC3d"
      },
      "source": [
        "###**의사결정나무 모형의 성능평가**"
      ]
    },
    {
      "cell_type": "markdown",
      "metadata": {
        "id": "rOyf7tfNoL4B"
      },
      "source": [
        "**훈련, 테스트 집합 정확도 확인**"
      ]
    },
    {
      "cell_type": "code",
      "metadata": {
        "id": "Gmq56bKhl56F",
        "cellView": "code"
      },
      "source": [
        "print(\"훈련 데이터 집합 정확도: {:.3f}\".format(tree_1.score(X_train, y_train)))\n",
        "print(\"테스트 데이터 집합 정확도: {:.3f}\".format(tree_1.score(X_test, y_test)))"
      ],
      "execution_count": null,
      "outputs": []
    },
    {
      "cell_type": "markdown",
      "metadata": {
        "id": "S10vsOLEnOlA"
      },
      "source": [
        "**생성된 의사결정나무를 활용하여 테스트 데이터에 대한 분류**"
      ]
    },
    {
      "cell_type": "code",
      "metadata": {
        "id": "TaLPa1gaANoI"
      },
      "source": [
        "y_pred_1 = tree_1.predict(X_test)\n",
        "print(y_pred_1)"
      ],
      "execution_count": null,
      "outputs": []
    },
    {
      "cell_type": "markdown",
      "metadata": {
        "id": "x97TtchRnefd"
      },
      "source": [
        "**의사결정나무의 분류 결과와 테스트 데이터의 실제 값을 활용하여 교차표 생성**"
      ]
    },
    {
      "cell_type": "code",
      "metadata": {
        "id": "D3kqb7BoBGvQ"
      },
      "source": [
        "from sklearn.metrics import confusion_matrix \n",
        "from sklearn.metrics import accuracy_score \n",
        "from sklearn.metrics import classification_report\n",
        "\n",
        "results_1 = confusion_matrix(y_test, y_pred_1)\n",
        "print(results_1)"
      ],
      "execution_count": null,
      "outputs": []
    },
    {
      "cell_type": "markdown",
      "metadata": {
        "id": "XN2ppvz_plh5"
      },
      "source": [
        "**의사결정나무의 분류 결과와 테스트 데이터의 실제 값을 활용하여 모델의 성능평가 지표 출력**"
      ]
    },
    {
      "cell_type": "code",
      "metadata": {
        "id": "cEJ4ypW_w9VN"
      },
      "source": [
        "print('Confusion Matrix :\\n{}'.format(results_1))"
      ],
      "execution_count": null,
      "outputs": []
    },
    {
      "cell_type": "code",
      "metadata": {
        "id": "096MQUtFpgR7"
      },
      "source": [
        "print('Accuracy Score : {}'.format(accuracy_score(y_test, y_pred_1)))\n",
        "print(classification_report(y_test, y_pred_1, target_names=['class 0', 'class 1']))"
      ],
      "execution_count": null,
      "outputs": []
    },
    {
      "cell_type": "markdown",
      "metadata": {
        "id": "_6UAAnxyouBJ"
      },
      "source": [
        "##**의사결정나무 생성하기 2 - 나무의 깊이 4**"
      ]
    },
    {
      "cell_type": "markdown",
      "metadata": {
        "id": "m5lDbUiFnt14"
      },
      "source": [
        "###**의사결정나무 생성 -나무의 최대 깊이 4**"
      ]
    },
    {
      "cell_type": "code",
      "metadata": {
        "id": "uGQF1GVEmFgU"
      },
      "source": [
        "tree_2 = DecisionTreeClassifier(max_depth=4, random_state=0)\n",
        "tree_2.fit(X_train, y_train)"
      ],
      "execution_count": null,
      "outputs": []
    },
    {
      "cell_type": "markdown",
      "metadata": {
        "id": "32-7BRrCkWFc"
      },
      "source": [
        "https://scikit-learn.org/stable/modules/generated/sklearn.tree.DecisionTreeClassifier.html"
      ]
    },
    {
      "cell_type": "markdown",
      "metadata": {
        "id": "llA994llrBsu"
      },
      "source": [
        "###**의사결정나무 결과 시각화 - 최대 나무 깊이 4**"
      ]
    },
    {
      "cell_type": "code",
      "metadata": {
        "id": "U2f_t5NtmcLL"
      },
      "source": [
        "export_graphviz(tree_2, out_file=\"tree_2.dot\", class_names=[\"M(Malignant Tumor)\", \"B(Benign Tumor)\"], feature_names=cancer.feature_names, impurity=False, filled=True)"
      ],
      "execution_count": null,
      "outputs": []
    },
    {
      "cell_type": "code",
      "metadata": {
        "id": "mVWkqjwrmeZT",
        "cellView": "code"
      },
      "source": [
        "with open(\"tree_2.dot\", encoding='UTF8') as f:\n",
        "    dot_graph = f.read()\n",
        "    decesion_tree = graphviz.Source(dot_graph)\n",
        "    display(decesion_tree)"
      ],
      "execution_count": null,
      "outputs": []
    },
    {
      "cell_type": "markdown",
      "metadata": {
        "id": "gFzlu4kvq3OR"
      },
      "source": [
        "###**의사결정나무 변수별 중요도 확인 - 최대 나무 깊이 4**"
      ]
    },
    {
      "cell_type": "code",
      "metadata": {
        "id": "SmNG9mHsq1rY"
      },
      "source": [
        "plot_feature_importances_cancer(tree_2)"
      ],
      "execution_count": null,
      "outputs": []
    },
    {
      "cell_type": "markdown",
      "metadata": {
        "id": "lPxwqjSJp4GA"
      },
      "source": [
        "###**의사결정나무 모형의 성능 평가  - 최대 나무 깊이 4**"
      ]
    },
    {
      "cell_type": "markdown",
      "metadata": {
        "id": "dG4JXgyLnz0U"
      },
      "source": [
        "**의사결정나무(최대 나무 깊이 4)의 훈련, 테스트 데이터 분류 정확도 확인하기**"
      ]
    },
    {
      "cell_type": "code",
      "metadata": {
        "id": "QS7R5Ec1mHw7"
      },
      "source": [
        "print(\"훈련 세트 정확도: {:.3f}\".format(tree_2.score(X_train, y_train)))\n",
        "print(\"테스트 세트 정확도: {:.3f}\".format(tree_2.score(X_test, y_test)))"
      ],
      "execution_count": null,
      "outputs": []
    },
    {
      "cell_type": "markdown",
      "metadata": {
        "id": "N2xsv5_qp8Z3"
      },
      "source": [
        "**생성된 의사결정나무(최대 나무 깊이 4)를 활용하여 암 여부 분류하기**"
      ]
    },
    {
      "cell_type": "code",
      "metadata": {
        "id": "UIjlRPskoLKJ"
      },
      "source": [
        "y_pred_2 = tree_2.predict(X_test)\n",
        "y_pred_2"
      ],
      "execution_count": null,
      "outputs": []
    },
    {
      "cell_type": "markdown",
      "metadata": {
        "id": "sJpvDv7vqDQw"
      },
      "source": [
        "**의사결정나무(최대 나무 깊이 4)의 분류 결과와 테스트 데이터의 실제 값을 활용하여 교차표 생성**"
      ]
    },
    {
      "cell_type": "code",
      "metadata": {
        "id": "Gb9C4uBkoJAG"
      },
      "source": [
        "results_2 = confusion_matrix(y_test, y_pred_2)\n",
        "print(results_2)"
      ],
      "execution_count": null,
      "outputs": []
    },
    {
      "cell_type": "markdown",
      "metadata": {
        "id": "SPc1V3ReqOkB"
      },
      "source": [
        "**의사결정나무(최대 나무 깊이 4)의 분류 결과와 테스트 데이터의 실제 값을 활용하여 모델의 성능평가 지표 출력**"
      ]
    },
    {
      "cell_type": "code",
      "metadata": {
        "id": "MO0CLbFKqLPR"
      },
      "source": [
        "print('Confusion Matrix :\\n{}'.format(results_2))\n",
        "print('Accuracy Score : {}'.format(accuracy_score(y_test, y_pred_2)))\n",
        "print(classification_report(y_test, y_pred_2, target_names=['class 0', 'class 1']))"
      ],
      "execution_count": null,
      "outputs": []
    },
    {
      "cell_type": "markdown",
      "metadata": {
        "id": "h2cfQ7UciFtb"
      },
      "source": [
        "##**의사결정나무 가지치기**"
      ]
    },
    {
      "cell_type": "code",
      "metadata": {
        "id": "AGZjSdq4hyk6"
      },
      "source": [
        "X_train, X_test, y_train, y_test = train_test_split(cancer.data, cancer.target, \n",
        "                                                    stratify=cancer.target, test_size=0.2, random_state=1000)"
      ],
      "execution_count": null,
      "outputs": []
    },
    {
      "cell_type": "code",
      "metadata": {
        "id": "V_KuICj-iRvr"
      },
      "source": [
        "score_train = []\n",
        "score_test = []\n",
        "\n",
        "for depth in range(1,15):\n",
        "    model = DecisionTreeClassifier(max_depth=depth)\n",
        "    model.fit(X_train, y_train)\n",
        "    score1 = model.score(X_train,y_train)\n",
        "    score2 = model.score(X_test, y_test)\n",
        "    score_train.append(score1)\n",
        "    score_test.append(score2)"
      ],
      "execution_count": null,
      "outputs": []
    },
    {
      "cell_type": "code",
      "metadata": {
        "id": "Ncjlsyduzs09"
      },
      "source": [
        "score_test"
      ],
      "execution_count": null,
      "outputs": []
    },
    {
      "cell_type": "code",
      "metadata": {
        "id": "F6jUxLgth0sa"
      },
      "source": [
        "plt.plot(range(1,15), score_train, 'ro--')\n",
        "plt.plot(range(1,15), score_test, 'bs-')\n",
        "plt.legend(['train','test'])\n",
        "plt.xlabel('max_depth')"
      ],
      "execution_count": null,
      "outputs": []
    }
  ]
}