{
  "nbformat": 4,
  "nbformat_minor": 0,
  "metadata": {
    "colab": {
      "name": "Ch5_Ensemble Model.ipynb",
      "private_outputs": true,
      "provenance": [],
      "collapsed_sections": [],
      "include_colab_link": true
    },
    "kernelspec": {
      "name": "python3",
      "display_name": "Python 3"
    },
    "language_info": {
      "name": "python"
    },
    "accelerator": "GPU"
  },
  "cells": [
    {
      "cell_type": "markdown",
      "metadata": {
        "id": "view-in-github",
        "colab_type": "text"
      },
      "source": [
        "<a href=\"https://colab.research.google.com/github/leepopnamoo/SQL-Study/blob/main/Ch5_Ensemble_Model.ipynb\" target=\"_parent\"><img src=\"https://colab.research.google.com/assets/colab-badge.svg\" alt=\"Open In Colab\"/></a>"
      ]
    },
    {
      "cell_type": "markdown",
      "metadata": {
        "id": "HKATa9kMjewD"
      },
      "source": [
        "#**Ch5_앙상블 모델 실습**"
      ]
    },
    {
      "cell_type": "markdown",
      "metadata": {
        "id": "M5chmts6nE9G"
      },
      "source": [
        "##**보팅(Voting) 분류기**"
      ]
    },
    {
      "cell_type": "code",
      "metadata": {
        "id": "nyHObQc9nJWZ"
      },
      "source": [
        "from sklearn.datasets import load_breast_cancer\n",
        "from sklearn.model_selection import train_test_split\n",
        "from sklearn.ensemble import VotingClassifier\n",
        "from sklearn.linear_model import LogisticRegression\n",
        "from sklearn.neighbors import KNeighborsClassifier\n",
        "from sklearn.metrics import accuracy_score"
      ],
      "execution_count": null,
      "outputs": []
    },
    {
      "cell_type": "markdown",
      "metadata": {
        "id": "ClRWYs85ofXV"
      },
      "source": [
        "###**데이터 불러오기**"
      ]
    },
    {
      "cell_type": "code",
      "metadata": {
        "id": "rr0tgFSjok2H"
      },
      "source": [
        "import pandas as pd\n",
        "cancer = load_breast_cancer()\n",
        "data_df = pd.DataFrame(cancer.data, columns=cancer.feature_names)\n",
        "data_df.head(3)"
      ],
      "execution_count": null,
      "outputs": []
    },
    {
      "cell_type": "code",
      "metadata": {
        "id": "8j62SYfUgCiy"
      },
      "source": [
        "data_df.info()"
      ],
      "execution_count": null,
      "outputs": []
    },
    {
      "cell_type": "markdown",
      "metadata": {
        "id": "egW7M6eUpSm-"
      },
      "source": [
        "###**학습용, 테스트용 데이터 구분**"
      ]
    },
    {
      "cell_type": "code",
      "metadata": {
        "id": "hzaHd2tKpY6P"
      },
      "source": [
        "X_train, X_test, y_train, y_test = train_test_split(cancer.data, cancer.target, test_size=0.2 , random_state= 156)"
      ],
      "execution_count": null,
      "outputs": []
    },
    {
      "cell_type": "markdown",
      "metadata": {
        "id": "-Wxt5g3XosaD"
      },
      "source": [
        "###**로지스틱 회귀, 최근접 이웃 모델 생성**"
      ]
    },
    {
      "cell_type": "code",
      "metadata": {
        "id": "KQEajVowoqRD"
      },
      "source": [
        "lr_clf = LogisticRegression()\n",
        "knn_clf = KNeighborsClassifier(n_neighbors=8)"
      ],
      "execution_count": null,
      "outputs": []
    },
    {
      "cell_type": "markdown",
      "metadata": {
        "id": "0cxMnL36o7Qn"
      },
      "source": [
        "###**소프트 보팅 앙상블 모델 생성(로지스틱 회귀, 최근접 이웃)**"
      ]
    },
    {
      "cell_type": "code",
      "metadata": {
        "id": "nqdX68PKpH_T"
      },
      "source": [
        "vo_clf = VotingClassifier(estimators=[('LR',lr_clf),('KNN',knn_clf)] , voting='soft' )"
      ],
      "execution_count": null,
      "outputs": []
    },
    {
      "cell_type": "markdown",
      "metadata": {
        "id": "6OaHZWjWpp84"
      },
      "source": [
        "###**소프트 보팅 앙상블 모델 학습/예측/평가**"
      ]
    },
    {
      "cell_type": "code",
      "metadata": {
        "id": "2IW_1aEpp9aH"
      },
      "source": [
        "vo_clf.fit(X_train , y_train)\n",
        "pred = vo_clf.predict(X_test)\n",
        "print('Voting 분류기 정확도: {:.4f}'.format(accuracy_score(y_test, pred)))"
      ],
      "execution_count": null,
      "outputs": []
    },
    {
      "cell_type": "markdown",
      "metadata": {
        "id": "AiD2_JWjrMOM"
      },
      "source": [
        "###**개별 모델과 성능 비교**"
      ]
    },
    {
      "cell_type": "code",
      "metadata": {
        "id": "rrCBD_PkoiW_"
      },
      "source": [
        "classifiers = [lr_clf, knn_clf]\n",
        "for classifier in classifiers:\n",
        "    classifier.fit(X_train , y_train)\n",
        "    pred = classifier.predict(X_test)\n",
        "    class_name= classifier.__class__.__name__\n",
        "    print('{0} 정확도: {1:.4f}'.format(class_name, accuracy_score(y_test , pred)))"
      ],
      "execution_count": null,
      "outputs": []
    },
    {
      "cell_type": "code",
      "metadata": {
        "id": "GqOGKGueLeUm"
      },
      "source": [
        "from sklearn.ensemble import BaggingClassifier\n",
        "from sklearn.tree import DecisionTreeClassifier"
      ],
      "execution_count": null,
      "outputs": []
    },
    {
      "cell_type": "code",
      "metadata": {
        "id": "2g0ou29nLoKv"
      },
      "source": [
        "bag_clf = BaggingClassifier(DecisionTreeClassifier(), n_estimators=500, max_samples=100, bootstrap=True, n_jobs=-1)"
      ],
      "execution_count": null,
      "outputs": []
    },
    {
      "cell_type": "code",
      "metadata": {
        "id": "nqyKU2WXL79W"
      },
      "source": [
        "bag_clf.fit(X_train, y_train)"
      ],
      "execution_count": null,
      "outputs": []
    },
    {
      "cell_type": "code",
      "metadata": {
        "id": "DCDXKz8AMAIf"
      },
      "source": [
        "y_pred = bag_clf.predict(X_test)"
      ],
      "execution_count": null,
      "outputs": []
    },
    {
      "cell_type": "code",
      "metadata": {
        "id": "yoEDusbs2TNM"
      },
      "source": [
        "print('{0} 정확도: {1:.4f}'.format('배깅', accuracy_score(y_test , y_pred)))"
      ],
      "execution_count": null,
      "outputs": []
    },
    {
      "cell_type": "code",
      "metadata": {
        "id": "IHbmJuvNMF9C"
      },
      "source": [
        "from sklearn.metrics import classification_report\n",
        "print(classification_report(y_test, y_pred))"
      ],
      "execution_count": null,
      "outputs": []
    },
    {
      "cell_type": "markdown",
      "metadata": {
        "id": "uMPMtAymjwab"
      },
      "source": [
        "##**랜덤 포레스트**"
      ]
    },
    {
      "cell_type": "code",
      "metadata": {
        "id": "EZD610A_jTuj"
      },
      "source": [
        "from sklearn.ensemble import RandomForestClassifier"
      ],
      "execution_count": null,
      "outputs": []
    },
    {
      "cell_type": "markdown",
      "metadata": {
        "id": "RFTiEBiGvyrB"
      },
      "source": [
        "###**랜덤 포레스트 생성 및 학습**"
      ]
    },
    {
      "cell_type": "code",
      "metadata": {
        "id": "0udvhT0kv52g"
      },
      "source": [
        "rnd_clf = RandomForestClassifier(n_estimators=500, random_state=42)\n",
        "rnd_clf.fit(X_train, y_train)"
      ],
      "execution_count": null,
      "outputs": []
    },
    {
      "cell_type": "markdown",
      "metadata": {
        "id": "C_NqbeAcv86a"
      },
      "source": [
        "###**테스트 데이터 예측 및 성능 평가**"
      ]
    },
    {
      "cell_type": "code",
      "metadata": {
        "id": "BS4mNNIgv9So"
      },
      "source": [
        "pred_rnd_clf = rnd_clf.predict(X_test)\n",
        "accuracy = accuracy_score(y_test , pred_rnd_clf)\n",
        "print('랜덤 포레스트 정확도: {0:.4f}'.format(accuracy))"
      ],
      "execution_count": null,
      "outputs": []
    },
    {
      "cell_type": "markdown",
      "metadata": {
        "id": "gOhOKLADzd_g"
      },
      "source": [
        "##**LightGBM**"
      ]
    },
    {
      "cell_type": "code",
      "metadata": {
        "id": "UYb3Pqc4zJ_6"
      },
      "source": [
        "from lightgbm import LGBMClassifier\n",
        "import pandas as pd\n",
        "import numpy as np\n",
        "from sklearn.datasets import load_breast_cancer\n",
        "from sklearn.model_selection import train_test_split"
      ],
      "execution_count": null,
      "outputs": []
    },
    {
      "cell_type": "markdown",
      "metadata": {
        "id": "jHHHGpxp0J7z"
      },
      "source": [
        "###**데이터 불러오기**"
      ]
    },
    {
      "cell_type": "code",
      "metadata": {
        "id": "DutgBjcT0Oz1"
      },
      "source": [
        "dataset = load_breast_cancer()\n",
        "ftr = dataset.data\n",
        "target = dataset.target"
      ],
      "execution_count": null,
      "outputs": []
    },
    {
      "cell_type": "code",
      "metadata": {
        "id": "iof3cSNL0fOD"
      },
      "source": [
        "dataset_df = pd.DataFrame(dataset.data, columns=dataset.feature_names)\n",
        "dataset_df.head(3)"
      ],
      "execution_count": null,
      "outputs": []
    },
    {
      "cell_type": "code",
      "metadata": {
        "id": "6MA4O-gO0qi0"
      },
      "source": [
        "dataset_df['target'] = dataset.target\n",
        "dataset_df.head(3)"
      ],
      "execution_count": null,
      "outputs": []
    },
    {
      "cell_type": "markdown",
      "metadata": {
        "id": "ssE7GE9T0Qnr"
      },
      "source": [
        "###**학습용, 테스트용 데이터 구분**"
      ]
    },
    {
      "cell_type": "code",
      "metadata": {
        "id": "A-VwLQt40TUY"
      },
      "source": [
        "X_train, X_test, y_train, y_test = train_test_split(dataset_df.iloc[:, :-1], dataset_df[\"target\"], test_size=0.2 , random_state= 156)"
      ],
      "execution_count": null,
      "outputs": []
    },
    {
      "cell_type": "markdown",
      "metadata": {
        "id": "PK0Ok-PK11YF"
      },
      "source": [
        "###**LightGBM 분류기**"
      ]
    },
    {
      "cell_type": "code",
      "metadata": {
        "id": "D9xeOGhm17Ok"
      },
      "source": [
        "lgbm_wrapper = LGBMClassifier(n_estimators=200)"
      ],
      "execution_count": null,
      "outputs": []
    },
    {
      "cell_type": "markdown",
      "metadata": {
        "id": "lv10cVx62IVL"
      },
      "source": [
        "###**LightGBM 분류기 학습 설정**"
      ]
    },
    {
      "cell_type": "code",
      "metadata": {
        "id": "CcBYYcfl2MBv"
      },
      "source": [
        "evals = [(X_test, y_test)]\n",
        "lgbm_wrapper.fit(X_train, y_train, early_stopping_rounds=100, eval_metric=\"logloss\", eval_set=evals, verbose=True)"
      ],
      "execution_count": null,
      "outputs": []
    },
    {
      "cell_type": "markdown",
      "metadata": {
        "id": "uVSzaV8J2ja0"
      },
      "source": [
        "###**모델 성능 평가**"
      ]
    },
    {
      "cell_type": "code",
      "metadata": {
        "id": "2uv3gA-N2isL"
      },
      "source": [
        "from sklearn.metrics import confusion_matrix, accuracy_score\n",
        "from sklearn.metrics import precision_score, recall_score\n",
        "from sklearn.metrics import f1_score, roc_auc_score"
      ],
      "execution_count": null,
      "outputs": []
    },
    {
      "cell_type": "markdown",
      "metadata": {
        "id": "yL5Fcc7n2uoV"
      },
      "source": [
        "####**교차표 확인**"
      ]
    },
    {
      "cell_type": "code",
      "metadata": {
        "id": "sLDwQ6dO2xrG"
      },
      "source": [
        "preds = lgbm_wrapper.predict(X_test)\n",
        "confusion = confusion_matrix(y_test, preds)\n",
        "confusion"
      ],
      "execution_count": null,
      "outputs": []
    },
    {
      "cell_type": "code",
      "metadata": {
        "id": "RaBVUDaQ3AXi"
      },
      "source": [
        "accuracy = accuracy_score(y_test, preds)\n",
        "print('정확도: {0:.4f}'.format(accuracy))"
      ],
      "execution_count": null,
      "outputs": []
    },
    {
      "cell_type": "code",
      "metadata": {
        "id": "uQ62JCz64D1S"
      },
      "source": [
        " precision = precision_score(y_test , preds)\n",
        " print('정밀도: {0:.4f}'.format(precision))"
      ],
      "execution_count": null,
      "outputs": []
    },
    {
      "cell_type": "code",
      "metadata": {
        "id": "vd3HutRp4WtZ"
      },
      "source": [
        " recall = recall_score(y_test , preds)\n",
        " print('재현율: {0:.4f}'.format(recall))"
      ],
      "execution_count": null,
      "outputs": []
    },
    {
      "cell_type": "code",
      "metadata": {
        "id": "9bY1hD-44Y7f"
      },
      "source": [
        "f1 = f1_score(y_test,preds)\n",
        "print('F1: {0:.4f}'.format(f1))"
      ],
      "execution_count": null,
      "outputs": []
    },
    {
      "cell_type": "code",
      "metadata": {
        "id": "wruuhIHa4j8B"
      },
      "source": [
        "roc_score = roc_auc_score(y_test, preds)"
      ],
      "execution_count": null,
      "outputs": []
    },
    {
      "cell_type": "code",
      "metadata": {
        "id": "PLaP7joE4XMD"
      },
      "source": [
        "print('ROC AUC: {0:.4f}'.format(roc_score*100))"
      ],
      "execution_count": null,
      "outputs": []
    },
    {
      "cell_type": "markdown",
      "metadata": {
        "id": "Fuai3WDk45S3"
      },
      "source": [
        "###**입력 데이터 중요도 시각화**"
      ]
    },
    {
      "cell_type": "code",
      "metadata": {
        "id": "30-R9sSj4-vQ"
      },
      "source": [
        "from lightgbm import plot_importance\n",
        "import matplotlib.pyplot as plt"
      ],
      "execution_count": null,
      "outputs": []
    },
    {
      "cell_type": "code",
      "metadata": {
        "id": "zf2RNwDp5CWi"
      },
      "source": [
        "fig, ax = plt.subplots(figsize=(10, 12))\n",
        "plot_importance(lgbm_wrapper, ax=ax)"
      ],
      "execution_count": null,
      "outputs": []
    },
    {
      "cell_type": "markdown",
      "metadata": {
        "id": "t-zTKwA-5h4e"
      },
      "source": [
        "##**XGBoost**"
      ]
    },
    {
      "cell_type": "code",
      "metadata": {
        "id": "ZF8TcI8Y5bwl"
      },
      "source": [
        "from xgboost import XGBClassifier"
      ],
      "execution_count": null,
      "outputs": []
    },
    {
      "cell_type": "markdown",
      "metadata": {
        "id": "QOctHlBa6MB_"
      },
      "source": [
        "###**데이터 불러오기**"
      ]
    },
    {
      "cell_type": "code",
      "metadata": {
        "id": "OoSUL4oj58rB"
      },
      "source": [
        "dataset = load_breast_cancer()\n",
        "X_features= dataset.data\n",
        "y_label = dataset.target\n",
        "\n",
        "cancer_df = pd.DataFrame(data=X_features, columns=dataset.feature_names)\n",
        "cancer_df['target']= y_label\n",
        "cancer_df.head(3)"
      ],
      "execution_count": null,
      "outputs": []
    },
    {
      "cell_type": "markdown",
      "metadata": {
        "id": "trtlFSVh6SFQ"
      },
      "source": [
        "###**학습용, 테스트용 데이터 구분**"
      ]
    },
    {
      "cell_type": "code",
      "metadata": {
        "id": "c9qDFn0t6P5w"
      },
      "source": [
        "X_train, X_test, y_train, y_test=train_test_split(X_features, y_label,\n",
        "                                         test_size=0.2, random_state=156 )\n",
        "print(X_train.shape , X_test.shape)"
      ],
      "execution_count": null,
      "outputs": []
    },
    {
      "cell_type": "markdown",
      "metadata": {
        "id": "lxN9Rfya6qww"
      },
      "source": [
        "###**XGBoost 분류기 학습**"
      ]
    },
    {
      "cell_type": "code",
      "metadata": {
        "id": "wmYvYixV6hpM"
      },
      "source": [
        "xgb_wrapper = XGBClassifier(n_estimators=400, learning_rate=0.1, max_depth=3)\n",
        "evals = [(X_test, y_test)]\n",
        "xgb_wrapper.fit(X_train, y_train,early_stopping_rounds=100, eval_metric=\"error\", \n",
        "                eval_set=evals, verbose=True)\n",
        "\n",
        "ws100_preds = xgb_wrapper.predict(X_test)\n",
        "ws100_pred_proba = xgb_wrapper.predict_proba(X_test)[:, 1]"
      ],
      "execution_count": null,
      "outputs": []
    },
    {
      "cell_type": "markdown",
      "metadata": {
        "id": "2eiwp_EB7HUz"
      },
      "source": [
        "###**예측 성능 확인**"
      ]
    },
    {
      "cell_type": "code",
      "metadata": {
        "id": "i4rnx4Eo7FDU"
      },
      "source": [
        "from sklearn.metrics import confusion_matrix, accuracy_score\n",
        "from sklearn.metrics import precision_score, recall_score\n",
        "from sklearn.metrics import f1_score, roc_auc_score\n",
        "\n",
        "def get_clf_eval(y_test, pred=None, pred_proba=None):\n",
        "    confusion = confusion_matrix( y_test, pred)\n",
        "    accuracy = accuracy_score(y_test , pred)\n",
        "    precision = precision_score(y_test , pred)\n",
        "    recall = recall_score(y_test , pred)\n",
        "    f1 = f1_score(y_test,pred)\n",
        "    # ROC-AUC 추가 \n",
        "    roc_auc = roc_auc_score(y_test, pred_proba)\n",
        "    print('오차 행렬')\n",
        "    print(confusion)\n",
        "    print('- 정확도: {0:.4f}\\n- 정밀도: {1:.4f}\\n- 재현율: {2:.4f}\\n- F1: {3:.4f}\\n- AUC:{4:.4f}'.format(accuracy, precision, recall, f1, roc_auc))"
      ],
      "execution_count": null,
      "outputs": []
    },
    {
      "cell_type": "code",
      "metadata": {
        "id": "HSvl-dd77OLY"
      },
      "source": [
        "get_clf_eval(y_test ,ws100_preds, ws100_pred_proba)"
      ],
      "execution_count": null,
      "outputs": []
    },
    {
      "cell_type": "markdown",
      "metadata": {
        "id": "K5JLPg0V7m22"
      },
      "source": [
        "###**입력 데이터 중요도 시각화**"
      ]
    },
    {
      "cell_type": "code",
      "metadata": {
        "id": "JZd4kEbA7m3A"
      },
      "source": [
        "from xgboost import plot_importance\n",
        "import matplotlib.pyplot as plt\n",
        "fig, ax = plt.subplots(figsize=(10, 12))\n",
        "plot_importance(xgb_wrapper, ax=ax)"
      ],
      "execution_count": null,
      "outputs": []
    },
    {
      "cell_type": "markdown",
      "metadata": {
        "id": "CdsuGdeK9g2B"
      },
      "source": [
        "###**하이퍼 파라미터 튜닝**"
      ]
    },
    {
      "cell_type": "code",
      "metadata": {
        "id": "ovifymn_789J"
      },
      "source": [
        "from sklearn.model_selection import GridSearchCV\n",
        "# 하이퍼 파라미터 테스트의 수행 속도를 향상시키기 위해 n_estimators를 100으로 감소\n",
        "xgb_clf = XGBClassifier(n_estimators=100)\n",
        "\n",
        "params = {'max_depth':[5, 7] , 'min_child_weight':[1,3] ,'colsample_bytree':[0.5, 0.75] }\n",
        "\n",
        "# cv는 3으로 지정 \n",
        "gridcv = GridSearchCV(xgb_clf, param_grid=params, cv=3)\n",
        "gridcv.fit(X_train, y_train, early_stopping_rounds=30, eval_metric=\"auc\",\n",
        "           eval_set=[(X_train, y_train), (X_test, y_test)])"
      ],
      "execution_count": null,
      "outputs": []
    },
    {
      "cell_type": "code",
      "metadata": {
        "id": "sxXbYorv9XGx"
      },
      "source": [
        "print('GridSearchCV 최적 파라미터:',gridcv.best_params_) \n",
        "xgb_roc_score = roc_auc_score(y_test, gridcv.predict_proba(X_test)[:,1], average='macro')\n",
        "print('ROC AUC: {0:.4f}'.format(xgb_roc_score))"
      ],
      "execution_count": null,
      "outputs": []
    }
  ]
}