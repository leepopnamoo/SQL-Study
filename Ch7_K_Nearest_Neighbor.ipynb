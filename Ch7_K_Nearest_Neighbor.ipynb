{
  "nbformat": 4,
  "nbformat_minor": 0,
  "metadata": {
    "colab": {
      "name": "Ch7_K-Nearest Neighbor.ipynb",
      "provenance": [],
      "collapsed_sections": [
        "NeIALd88kOzO",
        "-MjcEG-7mQtF",
        "NkHTMMrHm0ml"
      ],
      "include_colab_link": true
    },
    "kernelspec": {
      "name": "python3",
      "display_name": "Python 3"
    }
  },
  "cells": [
    {
      "cell_type": "markdown",
      "metadata": {
        "id": "view-in-github",
        "colab_type": "text"
      },
      "source": [
        "<a href=\"https://colab.research.google.com/github/leepopnamoo/SQL-Study/blob/main/Ch7_K_Nearest_Neighbor.ipynb\" target=\"_parent\"><img src=\"https://colab.research.google.com/assets/colab-badge.svg\" alt=\"Open In Colab\"/></a>"
      ]
    },
    {
      "cell_type": "markdown",
      "metadata": {
        "id": "GDkAuJU5kUEC"
      },
      "source": [
        "#***최근접 이웃 분석***"
      ]
    },
    {
      "cell_type": "markdown",
      "metadata": {
        "id": "NeIALd88kOzO"
      },
      "source": [
        "##***데이터 불러오기 및  나누기***"
      ]
    },
    {
      "cell_type": "code",
      "metadata": {
        "id": "o-XNCT_pkft8"
      },
      "source": [
        "from sklearn.datasets import load_breast_cancer"
      ],
      "execution_count": 1,
      "outputs": []
    },
    {
      "cell_type": "code",
      "metadata": {
        "id": "evLZbOJskaQ3"
      },
      "source": [
        "cancer = load_breast_cancer()"
      ],
      "execution_count": 2,
      "outputs": []
    },
    {
      "cell_type": "code",
      "metadata": {
        "id": "1D89Qt3hll80"
      },
      "source": [
        "from sklearn.model_selection import train_test_split\n",
        "train_X, test_X, train_Y, test_Y = train_test_split(cancer.data, cancer.target, stratify=cancer.target, random_state = 42)"
      ],
      "execution_count": 3,
      "outputs": []
    },
    {
      "cell_type": "code",
      "metadata": {
        "id": "vY5kvppZmEzk",
        "colab": {
          "base_uri": "https://localhost:8080/"
        },
        "outputId": "1849bc78-f2fd-4d18-8dd6-93eb06419fc7"
      },
      "source": [
        "print(train_X.shape)"
      ],
      "execution_count": 4,
      "outputs": [
        {
          "output_type": "stream",
          "name": "stdout",
          "text": [
            "(426, 30)\n"
          ]
        }
      ]
    },
    {
      "cell_type": "markdown",
      "metadata": {
        "id": "-MjcEG-7mQtF"
      },
      "source": [
        "##***KNN 모델 생성하기***"
      ]
    },
    {
      "cell_type": "code",
      "metadata": {
        "id": "TvASviKZmVhC"
      },
      "source": [
        "from sklearn.neighbors import KNeighborsClassifier\n",
        "knn_model = KNeighborsClassifier(n_neighbors=3)"
      ],
      "execution_count": 15,
      "outputs": []
    },
    {
      "cell_type": "code",
      "metadata": {
        "id": "i1LPuvyImm2s",
        "colab": {
          "base_uri": "https://localhost:8080/"
        },
        "outputId": "97bf03a4-110a-4b20-b136-cdb66b9ccd65"
      },
      "source": [
        "knn_model.fit(train_X, train_Y)"
      ],
      "execution_count": 16,
      "outputs": [
        {
          "output_type": "execute_result",
          "data": {
            "text/plain": [
              "KNeighborsClassifier(n_neighbors=3)"
            ]
          },
          "metadata": {},
          "execution_count": 16
        }
      ]
    },
    {
      "cell_type": "markdown",
      "metadata": {
        "id": "NkHTMMrHm0ml"
      },
      "source": [
        "##***KNN 모델을 활용한 예측 및 평가***"
      ]
    },
    {
      "cell_type": "code",
      "metadata": {
        "id": "p-iXR55YnGSr",
        "colab": {
          "base_uri": "https://localhost:8080/"
        },
        "outputId": "80f0f60b-3f90-4c0e-bb74-cf2edb08dce0"
      },
      "source": [
        "print(\"테스트 데이터 예측 결과: {}\".format(knn_model.predict(test_X)))"
      ],
      "execution_count": 17,
      "outputs": [
        {
          "output_type": "stream",
          "name": "stdout",
          "text": [
            "테스트 데이터 예측 결과: [1 0 1 0 1 0 0 0 0 1 1 1 0 0 1 1 0 1 1 1 0 0 1 1 1 1 1 1 1 0 1 1 1 1 1 1 1\n",
            " 1 0 1 0 1 0 1 1 1 0 1 0 1 1 1 1 0 1 0 1 0 0 0 1 0 1 0 1 1 0 1 1 1 1 1 1 1\n",
            " 1 0 0 0 0 1 1 1 1 1 0 1 0 1 1 1 1 0 0 1 0 0 0 1 0 1 0 0 0 1 1 0 1 1 0 1 0\n",
            " 1 1 1 1 0 1 1 1 0 1 1 0 1 0 1 1 0 1 1 0 1 1 1 0 0 1 1 1 1 1 1 1]\n"
          ]
        }
      ]
    },
    {
      "cell_type": "code",
      "metadata": {
        "id": "xe1ctyVsxxUx",
        "colab": {
          "base_uri": "https://localhost:8080/"
        },
        "outputId": "53bb0ec5-fab1-47a3-d809-5cc044f2222e"
      },
      "source": [
        "print(\"테스트 세트 정확도: {:.2f}\".format(knn_model.score(test_X, test_Y)))"
      ],
      "execution_count": 18,
      "outputs": [
        {
          "output_type": "stream",
          "name": "stdout",
          "text": [
            "테스트 세트 정확도: 0.93\n"
          ]
        }
      ]
    },
    {
      "cell_type": "markdown",
      "metadata": {
        "id": "38wzyvCDyKRI"
      },
      "source": [
        "##***KNN 모델의 이웃 수(K) 변화에 따른 정확도 확인***"
      ]
    },
    {
      "cell_type": "code",
      "metadata": {
        "id": "_VXhi3-2z6CK",
        "colab": {
          "base_uri": "https://localhost:8080/",
          "height": 298
        },
        "outputId": "94f0b050-a7fa-4e40-8b7f-7c05971f2d59"
      },
      "source": [
        "import matplotlib.pyplot as plt\n",
        "train_accuracy = []\n",
        "test_accuracy = []\n",
        "# 이웃 수를 1에서 10까지 적용\n",
        "neighbors_settings = range(1, 10)\n",
        "\n",
        "for n_neighbors in neighbors_settings:\n",
        "    # 모델 생성\n",
        "    clf = KNeighborsClassifier(n_neighbors=n_neighbors).fit(train_X, train_Y)\n",
        "    # 훈련 데이터 정확도 저장\n",
        "    train_accuracy.append(clf.score(train_X, train_Y))\n",
        "    # 테스트 데이터 정확도 저장\n",
        "    test_accuracy.append(clf.score(test_X, test_Y))\n",
        "\n",
        "plt.plot(neighbors_settings, train_accuracy, label=\"Train Accuracy\")\n",
        "plt.plot(neighbors_settings, test_accuracy, label=\"Test Accuracy\")\n",
        "plt.ylabel(\"Accuracy\")\n",
        "plt.xlabel(\"Number of k(n_neighbors)\")\n",
        "plt.legend()"
      ],
      "execution_count": 20,
      "outputs": [
        {
          "output_type": "execute_result",
          "data": {
            "text/plain": [
              "<matplotlib.legend.Legend at 0x7f4b523e4590>"
            ]
          },
          "metadata": {},
          "execution_count": 20
        },
        {
          "output_type": "display_data",
          "data": {
            "image/png": "[encoded data removed]",
            "text/plain": [
              "<Figure size 432x288 with 1 Axes>"
            ]
          },
          "metadata": {
            "needs_background": "light"
          }
        }
      ]
    }
  ]
}